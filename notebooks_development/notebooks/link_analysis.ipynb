{
 "cells": [
  {
   "cell_type": "markdown",
   "metadata": {},
   "source": [
    "## Install pacakges"
   ]
  },
  {
   "cell_type": "code",
   "execution_count": 1,
   "metadata": {},
   "outputs": [],
   "source": [
    "# install libraries\n",
    "# !pip install hazm\n",
    "# !pip install pandas\n",
    "# !pip install gensim\n",
    "# !pip install tqdm\n",
    "# !pip3 install sklearn\n",
    "# !pip3 install seaborn\n",
    "# !pip3 install networkx"
   ]
  },
  {
   "cell_type": "code",
   "execution_count": 2,
   "metadata": {},
   "outputs": [
    {
     "name": "stdout",
     "output_type": "stream",
     "text": [
      "Requirement already satisfied: scipy in c:\\users\\mahdi\\anaconda3\\lib\\site-packages (1.7.3)\n",
      "Requirement already satisfied: networkx in c:\\users\\mahdi\\anaconda3\\lib\\site-packages (2.6.3)\n",
      "Requirement already satisfied: numpy<1.23.0,>=1.16.5 in c:\\users\\mahdi\\anaconda3\\lib\\site-packages (from scipy) (1.21.6)\n"
     ]
    },
    {
     "name": "stderr",
     "output_type": "stream",
     "text": [
      "WARNING: You are using pip version 22.0.3; however, version 22.1.2 is available.\n",
      "You should consider upgrading via the 'c:\\users\\mahdi\\anaconda3\\python.exe -m pip install --upgrade pip' command.\n"
     ]
    }
   ],
   "source": [
    "!pip3 install --upgrade scipy networkx"
   ]
  },
  {
   "cell_type": "markdown",
   "metadata": {},
   "source": [
    "## Import libraries"
   ]
  },
  {
   "cell_type": "code",
   "execution_count": 3,
   "metadata": {},
   "outputs": [
    {
     "name": "stderr",
     "output_type": "stream",
     "text": [
      "C:\\Users\\Mahdi\\Anaconda3\\lib\\site-packages\\pandas\\compat\\_optional.py:138: UserWarning: Pandas requires version '2.7.0' or newer of 'numexpr' (version '2.6.9' currently installed).\n",
      "  warnings.warn(msg, UserWarning)\n"
     ]
    }
   ],
   "source": [
    "# libraries\n",
    "import codecs\n",
    "import os\n",
    "import json\n",
    "import tqdm\n",
    "import random\n",
    "from collections import Counter\n",
    "from nltk import FreqDist\n",
    "import pandas as pd\n",
    "import numpy as np\n",
    "import itertools\n",
    "import matplotlib.pyplot as plt\n",
    "from gensim.models.fasttext import FastText\n",
    "import matplotlib.pyplot as plt\n",
    "from mpl_toolkits.mplot3d import Axes3D\n",
    "import seaborn as sns\n",
    "from sklearn import metrics\n",
    "from sklearn.feature_extraction.text import TfidfVectorizer\n",
    "from scipy import sparse\n",
    "import networkx as nx\n",
    "from sklearn import preprocessing\n",
    "from hazm import *"
   ]
  },
  {
   "cell_type": "markdown",
   "metadata": {},
   "source": [
    "## Load documents"
   ]
  },
  {
   "cell_type": "code",
   "execution_count": 4,
   "metadata": {},
   "outputs": [],
   "source": [
    "DIRNAME = '../new-dataset-with-category'\n",
    "data = []\n",
    "for i in range(1, 31):\n",
    "    with open(f'{DIRNAME}/namnak-{i}.json', 'r', encoding=\"utf-8\") as f:\n",
    "        data.extend(json.loads(f.read()))"
   ]
  },
  {
   "cell_type": "code",
   "execution_count": 5,
   "metadata": {},
   "outputs": [],
   "source": [
    "i = 10\n",
    "doc = data[i]\n",
    "doc_text = ' '.join(doc['paragraphs'])"
   ]
  },
  {
   "cell_type": "markdown",
   "metadata": {},
   "source": [
    "## Instantiate hazm normalizer and lemmatizer"
   ]
  },
  {
   "cell_type": "code",
   "execution_count": 6,
   "metadata": {},
   "outputs": [],
   "source": [
    "normalizer = Normalizer()\n",
    "lemmatizer = Lemmatizer()"
   ]
  },
  {
   "cell_type": "markdown",
   "metadata": {},
   "source": [
    " ## Stopwords"
   ]
  },
  {
   "cell_type": "code",
   "execution_count": 7,
   "metadata": {},
   "outputs": [],
   "source": [
    "# Persian Stopwords\n",
    "# https://github.com/sobhe/hazm/blob/master/hazm/data/stopwords.dat\n",
    "stopwords = [normalizer.normalize(x.strip()) for x in codecs.open('stopwords.txt','r','utf-8').readlines()]\n",
    "\n",
    "custom_stop_words = [normalizer.normalize(x.strip()) for x in codecs.open('custom_stopwords.txt','r','utf-8').readlines()]\n",
    "\n",
    "total_stop_words = custom_stop_words + stopwords"
   ]
  },
  {
   "cell_type": "markdown",
   "metadata": {},
   "source": [
    "# Preprocess documents"
   ]
  },
  {
   "cell_type": "code",
   "execution_count": 8,
   "metadata": {},
   "outputs": [],
   "source": [
    "replaced_doc = doc_text.replace('-', ' ')\n",
    "replaced_doc = replaced_doc.replace('\\u200f', '‌')"
   ]
  },
  {
   "cell_type": "markdown",
   "metadata": {},
   "source": [
    "## Sentence and word tokenizer"
   ]
  },
  {
   "cell_type": "code",
   "execution_count": 9,
   "metadata": {},
   "outputs": [],
   "source": [
    "sentences = sent_tokenize(normalizer.normalize(replaced_doc))\n",
    "words_list = [[_ for _ in word_tokenize(t)  if _ not in total_stop_words] for t in sentences]\n",
    "words_list = [[lemmatizer.lemmatize(tok) for tok in ls] for ls in words_list]"
   ]
  },
  {
   "cell_type": "markdown",
   "metadata": {},
   "source": [
    "# Create similarity matrix"
   ]
  },
  {
   "cell_type": "code",
   "execution_count": 10,
   "metadata": {},
   "outputs": [],
   "source": [
    "sent_num = len(words_list)\n",
    "words_set = [set(ls) for ls in words_list]\n",
    "similarity_mat = np.zeros((sent_num, sent_num), dtype=float)\n",
    "treshold = 4\n",
    "\n",
    "for i in range(sent_num):\n",
    "    for j in range(sent_num):\n",
    "        intersect_len = len(words_set[i].intersection(words_set[j]))\n",
    "        similarity_mat[i][j] = 0 if (intersect_len < treshold or i == j) else (intersect_len ** (1.2)) / len(words_set[i])"
   ]
  },
  {
   "cell_type": "markdown",
   "metadata": {},
   "source": [
    "## Normalize similarity matrix"
   ]
  },
  {
   "cell_type": "code",
   "execution_count": 11,
   "metadata": {},
   "outputs": [],
   "source": [
    "similarity_mat_normalized = preprocessing.normalize(similarity_mat, norm='l1')"
   ]
  },
  {
   "cell_type": "markdown",
   "metadata": {},
   "source": [
    "## Create networkx graph"
   ]
  },
  {
   "cell_type": "code",
   "execution_count": 12,
   "metadata": {},
   "outputs": [],
   "source": [
    "graph = nx.from_numpy_array(similarity_mat_normalized)"
   ]
  },
  {
   "cell_type": "markdown",
   "metadata": {},
   "source": [
    "# Implement page_rank algorithm"
   ]
  },
  {
   "cell_type": "code",
   "execution_count": 13,
   "metadata": {},
   "outputs": [],
   "source": [
    "page_rank = nx.pagerank(graph, alpha=0.9)"
   ]
  },
  {
   "cell_type": "code",
   "execution_count": 14,
   "metadata": {},
   "outputs": [
    {
     "data": {
      "text/plain": [
       "{0: 0.03542074224771863,\n",
       " 1: 0.0064517107907474305,\n",
       " 2: 0.0064517107907474305,\n",
       " 3: 0.0064517107907474305,\n",
       " 4: 0.0064517107907474305,\n",
       " 5: 0.0064517107907474305,\n",
       " 6: 0.0064517107907474305,\n",
       " 7: 0.0064517107907474305,\n",
       " 8: 0.0064517107907474305,\n",
       " 9: 0.02233430320326379,\n",
       " 10: 0.0064517107907474305,\n",
       " 11: 0.0064517107907474305,\n",
       " 12: 0.0064517107907474305,\n",
       " 13: 0.0064517107907474305,\n",
       " 14: 0.0064517107907474305,\n",
       " 15: 0.0064517107907474305,\n",
       " 16: 0.0730357596142907,\n",
       " 17: 0.0064517107907474305,\n",
       " 18: 0.0064517107907474305,\n",
       " 19: 0.05836670538243607,\n",
       " 20: 0.0645157285833059,\n",
       " 21: 0.0064517107907474305,\n",
       " 22: 0.0064517107907474305,\n",
       " 23: 0.0064517107907474305,\n",
       " 24: 0.0064517107907474305,\n",
       " 25: 0.0064517107907474305,\n",
       " 26: 0.07682270149873943,\n",
       " 27: 0.0064517107907474305,\n",
       " 28: 0.0064517107907474305,\n",
       " 29: 0.0064517107907474305,\n",
       " 30: 0.0064517107907474305,\n",
       " 31: 0.1385567720185225,\n",
       " 32: 0.0064517107907474305,\n",
       " 33: 0.05572322687892342,\n",
       " 34: 0.0064517107907474305,\n",
       " 35: 0.0064517107907474305,\n",
       " 36: 0.05572322687892342,\n",
       " 37: 0.06465811952693558,\n",
       " 38: 0.0064517107907474305,\n",
       " 39: 0.0645157285833059,\n",
       " 40: 0.0064517107907474305,\n",
       " 41: 0.0064517107907474305,\n",
       " 42: 0.0064517107907474305,\n",
       " 43: 0.0064517107907474305,\n",
       " 44: 0.0064517107907474305,\n",
       " 45: 0.0064517107907474305,\n",
       " 46: 0.0064517107907474305,\n",
       " 47: 0.0064517107907474305,\n",
       " 48: 0.0064517107907474305,\n",
       " 49: 0.0064517107907474305,\n",
       " 50: 0.0064517107907474305,\n",
       " 51: 0.0064517107907474305,\n",
       " 52: 0.0064517107907474305,\n",
       " 53: 0.0064517107907474305,\n",
       " 54: 0.0064517107907474305,\n",
       " 55: 0.0064517107907474305}"
      ]
     },
     "execution_count": 14,
     "metadata": {},
     "output_type": "execute_result"
    }
   ],
   "source": [
    "page_rank"
   ]
  },
  {
   "cell_type": "markdown",
   "metadata": {},
   "source": [
    "## Print top n sentences of document"
   ]
  },
  {
   "cell_type": "code",
   "execution_count": 15,
   "metadata": {},
   "outputs": [],
   "source": [
    "def get_top_n(values, n=5):\n",
    "    np_page_rank = np.array(list(values))\n",
    "    top_n = np_page_rank.argsort()[-n:][::-1]\n",
    "    return top_n"
   ]
  },
  {
   "cell_type": "code",
   "execution_count": 16,
   "metadata": {},
   "outputs": [
    {
     "name": "stdout",
     "output_type": "stream",
     "text": [
      "برای درمان افسردگی چه بخوریم و چه نخوریم؟\n",
      "https://namnak.com/مواد-غذایی-درمان-افسردگی.p23484\n",
      "---------------\n",
      "غذاهای دیگر که با افسردگی مبارزه می‌کنند، عبارتند از: دانه‌های گیاه آفتابگردان و چیا آووکادو پرتقال ماست گوشت ماهی چرب لوبیا آب تره غلات کامل درمان افسردگی با مواد غذایی، غذاهایی که نباید بخورید: متاسفانه زمانی که از افسردگی رنج می‌برید، ممکن است به غذاهای ناسالم علاقه داشته باشید.\n",
      "---------------\n",
      "مواد مغذی به فعالیت سیستم عصبی شما کمک می‌کنند و از اضطراب و افسردگی جلوگیری می‌کنند.\n",
      "---------------\n",
      "غذاهایی که خلق و خوی شما را بهبود میبخشد و افسردگی را درمان می‌کنند در ادامه این بخش از سلامت نمناک به توصیه‌های خوراکی برای درمان افسردگی و رفع اضطراب می‌پردازیم؛ غذاهای حاوی مواد مغذی که شما را شاد می‌کنند، می‌توانند به رژیم غذایی دیگری که برای افسردگی نیاز دارید، اضافه شوند.\n",
      "---------------\n",
      "سبزیجات با برگ‌های سبز تیره: یک مواد مغذی فوق العاده هستند، که به جلوگیری از التهاب کمک می‌کند.\n",
      "---------------\n",
      "گردو: غنی از امگا ۳ و اسید چرب است.\n",
      "---------------\n"
     ]
    }
   ],
   "source": [
    "print(f\"{doc['title']}\")\n",
    "print(doc['link'])\n",
    "print('---------------')\n",
    "for i in get_top_n(page_rank.values()):\n",
    "    print(sentences[i])\n",
    "    print('---------------')"
   ]
  },
  {
   "cell_type": "markdown",
   "metadata": {},
   "source": [
    "# Implement hits algorithm"
   ]
  },
  {
   "cell_type": "code",
   "execution_count": 17,
   "metadata": {},
   "outputs": [],
   "source": [
    "hubs, authorities = nx.hits(graph)"
   ]
  },
  {
   "cell_type": "code",
   "execution_count": 18,
   "metadata": {},
   "outputs": [
    {
     "data": {
      "text/plain": [
       "array([31, 33, 36, 16,  0, 26,  9, 37, 19,  3], dtype=int64)"
      ]
     },
     "execution_count": 18,
     "metadata": {},
     "output_type": "execute_result"
    }
   ],
   "source": [
    "get_top_n(hubs.values(), n=10)"
   ]
  },
  {
   "cell_type": "code",
   "execution_count": 19,
   "metadata": {},
   "outputs": [
    {
     "data": {
      "text/plain": [
       "array([31, 33, 36, 16,  0, 26,  9, 37, 19,  3], dtype=int64)"
      ]
     },
     "execution_count": 19,
     "metadata": {},
     "output_type": "execute_result"
    }
   ],
   "source": [
    "get_top_n(authorities.values(), n=10)"
   ]
  },
  {
   "cell_type": "markdown",
   "metadata": {},
   "source": [
    "## Print top n sentences of document"
   ]
  },
  {
   "cell_type": "markdown",
   "metadata": {},
   "source": [
    "### Hubs"
   ]
  },
  {
   "cell_type": "code",
   "execution_count": 20,
   "metadata": {},
   "outputs": [
    {
     "name": "stdout",
     "output_type": "stream",
     "text": [
      "برای درمان افسردگی چه بخوریم و چه نخوریم؟\n",
      "https://namnak.com/مواد-غذایی-درمان-افسردگی.p23484\n",
      "---------------\n",
      "غذاهای دیگر که با افسردگی مبارزه می‌کنند، عبارتند از: دانه‌های گیاه آفتابگردان و چیا آووکادو پرتقال ماست گوشت ماهی چرب لوبیا آب تره غلات کامل درمان افسردگی با مواد غذایی، غذاهایی که نباید بخورید: متاسفانه زمانی که از افسردگی رنج می‌برید، ممکن است به غذاهای ناسالم علاقه داشته باشید.\n",
      "---------------\n",
      "مانند: سوسیس قند و شکر و مشتقات آن‌ها نوشابه و سایر نوشیدنی‌های گازدار غذاهای سرخ شده مقدار بیش از حد کافئین شیرینی‌های تجاری پنیرهای چرب غلات غنی شده علاوه بر اینها، استفاده از روش‌های دیگر برای مبارزه با افسردگی بسیار مهم است.\n",
      "---------------\n",
      "غذایی که برای مبارزه و درمان با افسردگی باید هر روز مصرف کنیم: ۱.\n",
      "---------------\n",
      "غذاهایی که خلق و خوی شما را بهبود میبخشد و افسردگی را درمان می‌کنند در ادامه این بخش از سلامت نمناک به توصیه‌های خوراکی برای درمان افسردگی و رفع اضطراب می‌پردازیم؛ غذاهای حاوی مواد مغذی که شما را شاد می‌کنند، می‌توانند به رژیم غذایی دیگری که برای افسردگی نیاز دارید، اضافه شوند.\n",
      "---------------\n",
      "درمان افسردگی با مواد غذایی و تغذیه مناسب افسردگی یک مشکل سلامتی عمومی است، که بر میزان زیادی از جمعیت جهان تأثیر گذاشته است، با حالت غم انگیزی عمیق مشخص میشود، می‌تواند احساسات ناامیدی، از دست دادن علاقه به زندگی را افزایش دهد.\n",
      "---------------\n"
     ]
    }
   ],
   "source": [
    "print(f\"{doc['title']}\")\n",
    "print(doc['link'])\n",
    "print('---------------')\n",
    "for i in get_top_n(hubs.values()):\n",
    "    print(sentences[i])\n",
    "    print('---------------')"
   ]
  },
  {
   "cell_type": "markdown",
   "metadata": {},
   "source": [
    "### Authorities"
   ]
  },
  {
   "cell_type": "code",
   "execution_count": 21,
   "metadata": {},
   "outputs": [
    {
     "name": "stdout",
     "output_type": "stream",
     "text": [
      "برای درمان افسردگی چه بخوریم و چه نخوریم؟\n",
      "https://namnak.com/مواد-غذایی-درمان-افسردگی.p23484\n",
      "---------------\n",
      "غذاهای دیگر که با افسردگی مبارزه می‌کنند، عبارتند از: دانه‌های گیاه آفتابگردان و چیا آووکادو پرتقال ماست گوشت ماهی چرب لوبیا آب تره غلات کامل درمان افسردگی با مواد غذایی، غذاهایی که نباید بخورید: متاسفانه زمانی که از افسردگی رنج می‌برید، ممکن است به غذاهای ناسالم علاقه داشته باشید.\n",
      "---------------\n",
      "مانند: سوسیس قند و شکر و مشتقات آن‌ها نوشابه و سایر نوشیدنی‌های گازدار غذاهای سرخ شده مقدار بیش از حد کافئین شیرینی‌های تجاری پنیرهای چرب غلات غنی شده علاوه بر اینها، استفاده از روش‌های دیگر برای مبارزه با افسردگی بسیار مهم است.\n",
      "---------------\n",
      "غذایی که برای مبارزه و درمان با افسردگی باید هر روز مصرف کنیم: ۱.\n",
      "---------------\n",
      "غذاهایی که خلق و خوی شما را بهبود میبخشد و افسردگی را درمان می‌کنند در ادامه این بخش از سلامت نمناک به توصیه‌های خوراکی برای درمان افسردگی و رفع اضطراب می‌پردازیم؛ غذاهای حاوی مواد مغذی که شما را شاد می‌کنند، می‌توانند به رژیم غذایی دیگری که برای افسردگی نیاز دارید، اضافه شوند.\n",
      "---------------\n",
      "درمان افسردگی با مواد غذایی و تغذیه مناسب افسردگی یک مشکل سلامتی عمومی است، که بر میزان زیادی از جمعیت جهان تأثیر گذاشته است، با حالت غم انگیزی عمیق مشخص میشود، می‌تواند احساسات ناامیدی، از دست دادن علاقه به زندگی را افزایش دهد.\n",
      "---------------\n"
     ]
    }
   ],
   "source": [
    "print(f\"{doc['title']}\")\n",
    "print(doc['link'])\n",
    "print('---------------')\n",
    "for i in get_top_n(authorities.values()):\n",
    "    print(sentences[i])\n",
    "    print('---------------')"
   ]
  },
  {
   "cell_type": "markdown",
   "metadata": {},
   "source": [
    "## check similarity matrix symmetricity"
   ]
  },
  {
   "cell_type": "code",
   "execution_count": 22,
   "metadata": {},
   "outputs": [
    {
     "data": {
      "text/plain": [
       "False"
      ]
     },
     "execution_count": 22,
     "metadata": {},
     "output_type": "execute_result"
    }
   ],
   "source": [
    "np.allclose(similarity_mat_normalized, similarity_mat_normalized.T, atol=1e-2)"
   ]
  },
  {
   "cell_type": "markdown",
   "metadata": {},
   "source": [
    "# Link analysis using tfidf vectorizer"
   ]
  },
  {
   "cell_type": "code",
   "execution_count": 23,
   "metadata": {
    "scrolled": true
   },
   "outputs": [
    {
     "name": "stderr",
     "output_type": "stream",
     "text": [
      "C:\\Users\\Mahdi\\Anaconda3\\lib\\site-packages\\scipy\\sparse\\_index.py:82: SparseEfficiencyWarning: Changing the sparsity structure of a csr_matrix is expensive. lil_matrix is more efficient.\n",
      "  self._set_intXint(row, col, x.flat[0])\n"
     ]
    }
   ],
   "source": [
    "tfidfvectorizer = TfidfVectorizer(analyzer='word', stop_words=None, ngram_range=(1,1))\n",
    "sent_term_mat = tfidfvectorizer.fit_transform([' '.join(sent) for sent in words_list])\n",
    "similarity_mat = sent_term_mat.dot(sent_term_mat.T)\n",
    "for i in range(similarity_mat.shape[0]):\n",
    "    similarity_mat[i,i] = 0 "
   ]
  },
  {
   "cell_type": "code",
   "execution_count": 24,
   "metadata": {},
   "outputs": [],
   "source": [
    "similarity_mat_normalized = preprocessing.normalize(similarity_mat, norm='l1')\n",
    "\n",
    "graph = nx.from_numpy_array(similarity_mat_normalized)\n",
    "\n",
    "page_rank = nx.pagerank(graph, alpha=0.9)"
   ]
  },
  {
   "cell_type": "code",
   "execution_count": 25,
   "metadata": {},
   "outputs": [
    {
     "name": "stdout",
     "output_type": "stream",
     "text": [
      "برای درمان افسردگی چه بخوریم و چه نخوریم؟\n",
      "https://namnak.com/مواد-غذایی-درمان-افسردگی.p23484\n",
      "---------------\n",
      "درمان افسردگی با مواد غذایی و تغذیه مناسب افسردگی یک مشکل سلامتی عمومی است، که بر میزان زیادی از جمعیت جهان تأثیر گذاشته است، با حالت غم انگیزی عمیق مشخص میشود، می‌تواند احساسات ناامیدی، از دست دادن علاقه به زندگی را افزایش دهد.\n",
      "---------------\n",
      "غذاهایی که خلق و خوی شما را بهبود میبخشد و افسردگی را درمان می‌کنند در ادامه این بخش از سلامت نمناک به توصیه‌های خوراکی برای درمان افسردگی و رفع اضطراب می‌پردازیم؛ غذاهای حاوی مواد مغذی که شما را شاد می‌کنند، می‌توانند به رژیم غذایی دیگری که برای افسردگی نیاز دارید، اضافه شوند.\n",
      "---------------\n",
      "ماهی‌ها برای مقابله با افسردگی نیز توصیه نیز می‌شوند چراکه کمبود نوعی از اسیدهای چرب موجود در آنها موجب تشدید علائم افسردگی می‌شود.\n",
      "---------------\n",
      "غذاهای دیگر که با افسردگی مبارزه می‌کنند، عبارتند از: دانه‌های گیاه آفتابگردان و چیا آووکادو پرتقال ماست گوشت ماهی چرب لوبیا آب تره غلات کامل درمان افسردگی با مواد غذایی، غذاهایی که نباید بخورید: متاسفانه زمانی که از افسردگی رنج می‌برید، ممکن است به غذاهای ناسالم علاقه داشته باشید.\n",
      "---------------\n",
      "اسیدهای چرب امگا ۳: باعث ثبات ذهنی، بهبود تمرکز و جلوگیری از افسردگی میشود.\n",
      "---------------\n"
     ]
    }
   ],
   "source": [
    "print(f\"{doc['title']}\")\n",
    "print(doc['link'])\n",
    "print('---------------')\n",
    "for i in get_top_n(page_rank.values()):\n",
    "    print(sentences[i])\n",
    "    print('---------------')"
   ]
  },
  {
   "cell_type": "markdown",
   "metadata": {},
   "source": [
    "## Link analyser final class"
   ]
  },
  {
   "cell_type": "code",
   "execution_count": 26,
   "metadata": {},
   "outputs": [],
   "source": [
    "class LinkAnalyser:\n",
    "    \n",
    "    def __init__(self, treshold=4):\n",
    "        self.normalizer = Normalizer()\n",
    "        self.lemmatizer = Lemmatizer()\n",
    "        self.treshold = treshold\n",
    "        self.tfidfvectorizer = TfidfVectorizer(analyzer='word', stop_words=None, ngram_range=(1,1))\n",
    "    \n",
    "        stopwords = [self.normalizer.normalize(x.strip()) for x in codecs.open('../stopwords/stopwords.txt','r','utf-8').readlines()]\n",
    "        custom_stop_words = [self.normalizer.normalize(x.strip()) for x in codecs.open('../stopwords/custom_stopwords.txt','r','utf-8').readlines()]\n",
    "        self.total_stop_words = custom_stop_words + stopwords\n",
    "        \n",
    "    def get_top_n(self, values, n=5, descending=True):\n",
    "        np_page_rank = np.array(list(values))\n",
    "        if descending:\n",
    "            top_n = np_page_rank.argsort()[-n:][::-1]\n",
    "        else:\n",
    "            top_n = np_page_rank.argsort()[:n]\n",
    "        return top_n\n",
    "    \n",
    "    def pprint(self, ranking, doc, sentences, n=5, descending=True):\n",
    "        for i in self.get_top_n(ranking.values(), n=n, descending=descending):\n",
    "            print(sentences[i])\n",
    "            print('---------------')\n",
    "    \n",
    "    def main_sentence_extractor(self, doc, similarity_type='words', method='pr', n=5):\n",
    "        # method can be pr or hits\n",
    "        # similarity_type can be words or tfidf\n",
    "        doc_text = ' '.join(doc['paragraphs'])\n",
    "        replaced_doc = doc_text.replace('-', ' ')\n",
    "        replaced_doc = replaced_doc.replace('\\u200f', '‌')\n",
    "        sentences = sent_tokenize(self.normalizer.normalize(replaced_doc))\n",
    "        words_list = [[_ for _ in word_tokenize(t)  if _ not in self.total_stop_words] for t in sentences]\n",
    "        words_list = [[self.lemmatizer.lemmatize(tok) for tok in ls] for ls in words_list]\n",
    "        \n",
    "        if similarity_type == 'words':\n",
    "        \n",
    "            sent_num = len(words_list)\n",
    "            words_set = [set(ls) for ls in words_list]\n",
    "            similarity_mat = np.zeros((sent_num, sent_num), dtype=float)\n",
    "            for i in range(sent_num):\n",
    "                for j in range(sent_num):\n",
    "                    intersect_len = len(words_set[i].intersection(words_set[j]))\n",
    "                    similarity_mat[i][j] = 0 if (intersect_len < self.treshold or i == j) else (intersect_len ** (1.2)) / len(words_set[i])\n",
    "        else:\n",
    "            sent_term_mat = self.tfidfvectorizer.fit_transform([' '.join(sent) for sent in words_list])\n",
    "            similarity_mat = sent_term_mat.dot(sent_term_mat.T)\n",
    "            for i in range(similarity_mat.shape[0]):\n",
    "                similarity_mat[i,i] = 0 \n",
    "    \n",
    "        similarity_mat_normalized = preprocessing.normalize(similarity_mat, norm='l1')\n",
    "        graph = nx.from_numpy_array(similarity_mat_normalized)\n",
    "        print(f\"{doc['title']}\")\n",
    "        print(doc['link'])\n",
    "        print('---------------')\n",
    "        \n",
    "        if method == 'pr':\n",
    "            ranking = nx.pagerank(graph, alpha=0.9)\n",
    "            print('Page rank:')\n",
    "            print(f'top {n}')\n",
    "            self.pprint(ranking, doc, sentences, n=n)\n",
    "            print(f'bottom {n}')\n",
    "            self.pprint(ranking, doc, sentences, n=n, descending=False)\n",
    "        else:\n",
    "            hubs, authorities = nx.hits(graph)\n",
    "            print('Authorities:')\n",
    "            print(f'top {n}')\n",
    "            self.pprint(authorities, doc, sentences, n=n)\n",
    "            print(f'bottom {n}')\n",
    "            self.pprint(authorities, doc, sentences, n=n, descending=False)\n",
    "            print('Hubs:')\n",
    "            print(f'top {n}')\n",
    "            self.pprint(hubs, doc, sentences, n=n)\n",
    "            print(f'bottom {n}')\n",
    "            self.pprint(hubs, doc, sentences, n=n, descending=False)\n"
   ]
  },
  {
   "cell_type": "markdown",
   "metadata": {},
   "source": [
    "## Instantiate LinkAnalyser"
   ]
  },
  {
   "cell_type": "code",
   "execution_count": 27,
   "metadata": {},
   "outputs": [],
   "source": [
    "link_analyser = LinkAnalyser()"
   ]
  },
  {
   "cell_type": "markdown",
   "metadata": {},
   "source": [
    "## Word similarity with page rank method"
   ]
  },
  {
   "cell_type": "code",
   "execution_count": 28,
   "metadata": {},
   "outputs": [
    {
     "name": "stdout",
     "output_type": "stream",
     "text": [
      "اعتیاد به این مواد مخدر ترک ندارد!\n",
      "https://namnak.com/اعتیاد-به-این-مواد-مخدر-ترک-ندارد.p20238\n",
      "---------------\n",
      "Page rank:\n",
      "top 5\n",
      "اعتیاد مواد مخدر و قرص‌های روانگردانی که غیرقابل ترک هستند ترکیبات شیمیایی جدیدی که در اشکال مختلف در دست خیلی از جوانان و نوجوانان داد و ستد می‌شود تا چند سال دیگر جای هر ماده مخدر و محرکی را که تاکنون وجود داشته است، می‌گیرد.\n",
      "---------------\n",
      "کسرا نام این ترکیبات را MA و MD عنوان کرده و می‌گوید: MA به شکل مایع و گرد با عنوان شیمیایی مواد مخدر تحت عنوان سوئیت، بنزای، مگاسوئیت و بیگ بنگ را می‌سازد و این اسم‌ها بستگی به میزان و موادی دارد که با این ماده ترکیب می‌شود در حالی که ماده اصلی این مخدر همان MA است.\n",
      "---------------\n",
      "به راحتی و در دست فرد مصرف کننده این ماده به روی سیگار یا هر ترکیبی به اندازه خیلی کم هم اگر ریخته شود کافی است و آن جوان و نوجوان تا روزها و حتی ساعت‌ها در حالت نشئگی به سر خواهد برد.\n",
      "---------------\n",
      "محمد طاهرخانی ادامه می‌دهد: دو ماده شیمیایی با نام‌های تجاری MD و MA اساس ساخت این مواد هستند که چون کاربردهای مختلفی دارند به صورت خام ماده مخدر محسوب نشده و کاربری تجاری و دارویی دارند.\n",
      "---------------\n",
      "طاهرخانی می‌گوید: ظرف یکی دو سال گذشته این ترکیبات بین نوجوانان به ویژه بسیار رایج است و معلوم نیست چرا مخدر به این خطرناکی که با هروئین و سایر مواد مخدر خطرناک برابری می‌کند باید در دست افرادی باشد که برای نخستین بار شاید تجربه مصرف مواد مخدر را دارند.\n",
      "---------------\n",
      "bottom 5\n",
      "صحنه عجیبی است.\n",
      "---------------\n",
      "شیوع این مواد بین نوجوانان و در سنین مدرسه در همه جای دنیا رایج است.\n",
      "---------------\n",
      "این مواد به تازگی وارد بازار نشده‌اند بلکه علم و آگاهی درباره نحوه و ترکیبات آن در جوانان ایجاد شده و به همین واسطه اقبال عمومی به آن هم بیشتر شده است.\n",
      "---------------\n",
      "این کارشناس عنوان می‌کند: با یک بار مصرف این ماده فرد اعتیاد پیدا می‌کند و اگر بیش از پنج ماه مصرف کند دیگر محال است بتواند ترک کند.\n",
      "---------------\n",
      "از طرف دیگر، برای اینکه این مواد را بسازند نه به لابراتور نیازی هست و نه ترکیب خاصی لازم است.\n",
      "---------------\n"
     ]
    }
   ],
   "source": [
    "i = 160\n",
    "link_analyser.main_sentence_extractor(doc=data[i], similarity_type='words', method='pr', n=5)"
   ]
  },
  {
   "cell_type": "markdown",
   "metadata": {},
   "source": [
    "## Word similarity with page hits method"
   ]
  },
  {
   "cell_type": "code",
   "execution_count": 29,
   "metadata": {},
   "outputs": [
    {
     "name": "stdout",
     "output_type": "stream",
     "text": [
      "اعتیاد به این مواد مخدر ترک ندارد!\n",
      "https://namnak.com/اعتیاد-به-این-مواد-مخدر-ترک-ندارد.p20238\n",
      "---------------\n",
      "Authorities:\n",
      "top 3\n",
      "اعتیاد مواد مخدر و قرص‌های روانگردانی که غیرقابل ترک هستند ترکیبات شیمیایی جدیدی که در اشکال مختلف در دست خیلی از جوانان و نوجوانان داد و ستد می‌شود تا چند سال دیگر جای هر ماده مخدر و محرکی را که تاکنون وجود داشته است، می‌گیرد.\n",
      "---------------\n",
      "به راحتی و در دست فرد مصرف کننده این ماده به روی سیگار یا هر ترکیبی به اندازه خیلی کم هم اگر ریخته شود کافی است و آن جوان و نوجوان تا روزها و حتی ساعت‌ها در حالت نشئگی به سر خواهد برد.\n",
      "---------------\n",
      "متاسفانه علاوه بر پسران جوان، دختران نوجوان زیادی هم از سر تفنن حتی کمتر از پنج بار این مواد را مصرف کرده و برای همیشه سر از کلینیک ترک اعتیاد درآورده‌اند.\n",
      "---------------\n",
      "bottom 3\n",
      "صحنه عجیبی است.\n",
      "---------------\n",
      "شیوع این مواد بین نوجوانان و در سنین مدرسه در همه جای دنیا رایج است.\n",
      "---------------\n",
      "این مواد به تازگی وارد بازار نشده‌اند بلکه علم و آگاهی درباره نحوه و ترکیبات آن در جوانان ایجاد شده و به همین واسطه اقبال عمومی به آن هم بیشتر شده است.\n",
      "---------------\n",
      "Hubs:\n",
      "top 3\n",
      "اعتیاد مواد مخدر و قرص‌های روانگردانی که غیرقابل ترک هستند ترکیبات شیمیایی جدیدی که در اشکال مختلف در دست خیلی از جوانان و نوجوانان داد و ستد می‌شود تا چند سال دیگر جای هر ماده مخدر و محرکی را که تاکنون وجود داشته است، می‌گیرد.\n",
      "---------------\n",
      "به راحتی و در دست فرد مصرف کننده این ماده به روی سیگار یا هر ترکیبی به اندازه خیلی کم هم اگر ریخته شود کافی است و آن جوان و نوجوان تا روزها و حتی ساعت‌ها در حالت نشئگی به سر خواهد برد.\n",
      "---------------\n",
      "متاسفانه علاوه بر پسران جوان، دختران نوجوان زیادی هم از سر تفنن حتی کمتر از پنج بار این مواد را مصرف کرده و برای همیشه سر از کلینیک ترک اعتیاد درآورده‌اند.\n",
      "---------------\n",
      "bottom 3\n",
      "صحنه عجیبی است.\n",
      "---------------\n",
      "شیوع این مواد بین نوجوانان و در سنین مدرسه در همه جای دنیا رایج است.\n",
      "---------------\n",
      "این مواد به تازگی وارد بازار نشده‌اند بلکه علم و آگاهی درباره نحوه و ترکیبات آن در جوانان ایجاد شده و به همین واسطه اقبال عمومی به آن هم بیشتر شده است.\n",
      "---------------\n"
     ]
    }
   ],
   "source": [
    "link_analyser.main_sentence_extractor(data[i], method='hits', n=3)"
   ]
  },
  {
   "cell_type": "markdown",
   "metadata": {},
   "source": [
    "## Tfidf similarity with page hits method"
   ]
  },
  {
   "cell_type": "code",
   "execution_count": 30,
   "metadata": {},
   "outputs": [
    {
     "name": "stdout",
     "output_type": "stream",
     "text": [
      "اعتیاد به این مواد مخدر ترک ندارد!\n",
      "https://namnak.com/اعتیاد-به-این-مواد-مخدر-ترک-ندارد.p20238\n",
      "---------------\n",
      "Page rank:\n",
      "top 5\n",
      "اعتیاد مواد مخدر و قرص‌های روانگردانی که غیرقابل ترک هستند ترکیبات شیمیایی جدیدی که در اشکال مختلف در دست خیلی از جوانان و نوجوانان داد و ستد می‌شود تا چند سال دیگر جای هر ماده مخدر و محرکی را که تاکنون وجود داشته است، می‌گیرد.\n",
      "---------------\n",
      "کسرا نام این ترکیبات را MA و MD عنوان کرده و می‌گوید: MA به شکل مایع و گرد با عنوان شیمیایی مواد مخدر تحت عنوان سوئیت، بنزای، مگاسوئیت و بیگ بنگ را می‌سازد و این اسم‌ها بستگی به میزان و موادی دارد که با این ماده ترکیب می‌شود در حالی که ماده اصلی این مخدر همان MA است.\n",
      "---------------\n",
      "این را پسری که این مواد را یک سال است مصرف می‌کند می‌گوید و ادامه می‌دهد: یعنی شما دیگر حتی به فروشنده این جنس هم نیاز ندارید.\n",
      "---------------\n",
      "کسرا به این صحنه می‌خندد و با صدای بلند یکی از پسرها را خطاب قرار داده و می‌گوید: ما همگی بچه مدرسه‌ای هستیم.\n",
      "---------------\n",
      "طاهرخانی می‌گوید: ظرف یکی دو سال گذشته این ترکیبات بین نوجوانان به ویژه بسیار رایج است و معلوم نیست چرا مخدر به این خطرناکی که با هروئین و سایر مواد مخدر خطرناک برابری می‌کند باید در دست افرادی باشد که برای نخستین بار شاید تجربه مصرف مواد مخدر را دارند.\n",
      "---------------\n",
      "bottom 5\n",
      "پارک نه چندان بزرگی در یکی از محلات غرب تهران مسیری داشت که هر روز باید از آن می‌گذشتم.\n",
      "---------------\n",
      "پسر بچه‌ای یک پک کوچک به یک سیگار زد و دود سیگار آن قدر زیاد بود که کل هیکل او و دوستش از این یک پک او در دود محو شدند و البته این دود هیچ بویی نمی‌داد.\n",
      "---------------\n",
      "در یک مدرسه و در یک کلاس درس می‌خوانیم.\n",
      "---------------\n",
      "اما این مواد بیشتر از آنکه تحرک داشته باشند باعث خواب آلودگی و فرو رفتن فرد به عالم هپروت می‌شود.\n",
      "---------------\n",
      "چشم‌های بیرون آمده و بی نهایت قرمز با چهره‌های برافروخته و چهره هایی شبیه خون آشام‌ها در فیلم‌ها توجهم را جلب کرد تا این ماده مخدر جدید را شناسایی کنم.\n",
      "---------------\n"
     ]
    }
   ],
   "source": [
    "link_analyser.main_sentence_extractor(data[160], similarity_type='tfidf')"
   ]
  },
  {
   "cell_type": "code",
   "execution_count": null,
   "metadata": {},
   "outputs": [],
   "source": []
  }
 ],
 "metadata": {
  "kernelspec": {
   "display_name": "Python 3",
   "language": "python",
   "name": "python3"
  },
  "language_info": {
   "codemirror_mode": {
    "name": "ipython",
    "version": 3
   },
   "file_extension": ".py",
   "mimetype": "text/x-python",
   "name": "python",
   "nbconvert_exporter": "python",
   "pygments_lexer": "ipython3",
   "version": "3.7.3"
  }
 },
 "nbformat": 4,
 "nbformat_minor": 4
}
