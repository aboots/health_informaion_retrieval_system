{
 "cells": [
  {
   "cell_type": "code",
   "execution_count": 1,
   "metadata": {},
   "outputs": [],
   "source": [
    "# install libraries\n",
    "# !pip install hazm\n",
    "# !pip install pandas\n",
    "# !pip install gensim\n",
    "# !pip install tqdm\n",
    "# !pip3 install sklearn"
   ]
  },
  {
   "cell_type": "code",
   "execution_count": 2,
   "metadata": {},
   "outputs": [],
   "source": [
    "# libraries\n",
    "import codecs\n",
    "import os\n",
    "import json\n",
    "import pickle\n",
    "import tqdm\n",
    "from collections import Counter\n",
    "from nltk import FreqDist\n",
    "import pandas as pd\n",
    "import numpy as np\n",
    "import itertools\n",
    "from scipy import sparse\n",
    "from hazm import *\n",
    "from sklearn.feature_extraction.text import TfidfVectorizer"
   ]
  },
  {
   "cell_type": "code",
   "execution_count": 3,
   "metadata": {},
   "outputs": [],
   "source": [
    "import json\n",
    "\n",
    "DIRNAME = '../dataset'\n",
    "data = []\n",
    "for i in range(1, 8):\n",
    "    with open(f'{DIRNAME}/namnak-p{i}.json', 'r', encoding=\"utf-8\") as f:\n",
    "        data.extend(json.loads(f.read()))\n",
    "    with open(f'{DIRNAME}/hidoctor-p{i}.json', 'r', encoding=\"utf-8\") as f:\n",
    "        data.extend(json.loads(f.read()))\n"
   ]
  },
  {
   "cell_type": "code",
   "execution_count": 4,
   "metadata": {},
   "outputs": [
    {
     "data": {
      "text/plain": [
       "4322"
      ]
     },
     "execution_count": 4,
     "metadata": {},
     "output_type": "execute_result"
    }
   ],
   "source": [
    "len(data)"
   ]
  },
  {
   "cell_type": "markdown",
   "metadata": {},
   "source": [
    "### normalization"
   ]
  },
  {
   "cell_type": "code",
   "execution_count": 5,
   "metadata": {},
   "outputs": [
    {
     "name": "stderr",
     "output_type": "stream",
     "text": [
      "100%|█████████████████████████████████████████████████████████████████████████████| 4322/4322 [00:06<00:00, 662.58it/s]\n"
     ]
    }
   ],
   "source": [
    "# normalization\n",
    "from hazm import *\n",
    "\n",
    "normalizer = Normalizer()\n",
    "\n",
    "normalized_data = []\n",
    "for item in tqdm.tqdm(data):\n",
    "    normalized_data.append({\"title\" : normalizer.normalize(item['title']), \"text\":normalizer.normalize(item['text']), \"link\": item['link']})"
   ]
  },
  {
   "cell_type": "code",
   "execution_count": 6,
   "metadata": {},
   "outputs": [
    {
     "name": "stdout",
     "output_type": "stream",
     "text": [
      "تغییرات فصل بر روی عملکرد مغز و روحیات و شخصیت افراد بسیار تاثیر گذار است. برای مثال در فصل زمستان برخی افراد دچار افسردگی می‌شوند. آیا می‌دانستید که ممکن است در یک فصل حالتان خوب باشد اما برعکس، در فصل دیگر حوصله نداشته باشید؟ در واقع عملکرد ذهنی در فصل‌های مختلف دچار تغییر می‌شود. مطالعات نشان می‌دهد که با وارد شدن به فصل جدید، ذهن به تغییرات و تحولات اطراف خود پاسخ می‌دهد که گاهی اوقات این پاسخ مثبت است و گاهی اوقات چندان مثبت نیست. احتمالا شما هم این حس‌های درونی را تجربه کرده باشید و بدانید که راجع به چه چیزی صحبت می‌کنیم. در این قسمت از نمناک قصد داریم راجع به نوسانات فصلی که روی وضعیت ذهنی تاثیرگذار است، صحبت کنیم. جهت و زاویه زمین با خورشید روی همه چیز از جمله رفتار و شخصیت ما اثر گذار است. همچنین اختلالات فصلی یا افسردگی‌های فصلی هم وجود دارند که می‌توانند مغز انسان‌ها را دچار تغییر و تحولاتی بکنند و روی روحیه آن‌ها اثرگذار باشند. این موضوع کاملا از نظر علمی به اثبات رسیده است. به همین دلیل است که درمان‌های مختلفی از جمله نور درمانی وجود دارد که در این روش، انسان‌ها جلوی آینه \n"
     ]
    }
   ],
   "source": [
    "import random\n",
    "print(random.sample(normalized_data, 10)[0]['text'][:1000])"
   ]
  },
  {
   "cell_type": "markdown",
   "metadata": {},
   "source": [
    "### stopwords"
   ]
  },
  {
   "cell_type": "code",
   "execution_count": 7,
   "metadata": {},
   "outputs": [],
   "source": [
    "# Persian Stopwords\n",
    "# https://github.com/sobhe/hazm/blob/master/hazm/data/stopwords.dat\n",
    "stopwords = [normalizer.normalize(x.strip()) for x in codecs.open('stopwords.txt','r','utf-8').readlines()]"
   ]
  },
  {
   "cell_type": "code",
   "execution_count": 8,
   "metadata": {},
   "outputs": [],
   "source": [
    "def create_dataframe_freq(data, stopwords=[]):\n",
    "    tokens = []\n",
    "    for item in tqdm.tqdm(data):\n",
    "        tokens.extend([_ for _ in word_tokenize(item['text'])  if _ not in stopwords])\n",
    "    return pd.DataFrame(FreqDist(tokens).most_common(30)), tokens"
   ]
  },
  {
   "cell_type": "code",
   "execution_count": 9,
   "metadata": {},
   "outputs": [
    {
     "name": "stderr",
     "output_type": "stream",
     "text": [
      "100%|█████████████████████████████████████████████████████████████████████████████| 4322/4322 [00:13<00:00, 320.60it/s]\n"
     ]
    }
   ],
   "source": [
    "freq_analysis, tokens = create_dataframe_freq(normalized_data, stopwords)"
   ]
  },
  {
   "cell_type": "code",
   "execution_count": 10,
   "metadata": {},
   "outputs": [
    {
     "data": {
      "text/html": [
       "<div>\n",
       "<style scoped>\n",
       "    .dataframe tbody tr th:only-of-type {\n",
       "        vertical-align: middle;\n",
       "    }\n",
       "\n",
       "    .dataframe tbody tr th {\n",
       "        vertical-align: top;\n",
       "    }\n",
       "\n",
       "    .dataframe thead th {\n",
       "        text-align: right;\n",
       "    }\n",
       "</style>\n",
       "<table border=\"1\" class=\"dataframe\">\n",
       "  <thead>\n",
       "    <tr style=\"text-align: right;\">\n",
       "      <th></th>\n",
       "      <th>0</th>\n",
       "      <th>1</th>\n",
       "    </tr>\n",
       "  </thead>\n",
       "  <tbody>\n",
       "    <tr>\n",
       "      <th>0</th>\n",
       "      <td>.</td>\n",
       "      <td>135766</td>\n",
       "    </tr>\n",
       "    <tr>\n",
       "      <th>1</th>\n",
       "      <td>،</td>\n",
       "      <td>98207</td>\n",
       "    </tr>\n",
       "    <tr>\n",
       "      <th>2</th>\n",
       "      <td>:</td>\n",
       "      <td>18986</td>\n",
       "    </tr>\n",
       "    <tr>\n",
       "      <th>3</th>\n",
       "      <td>استفاده</td>\n",
       "      <td>15644</td>\n",
       "    </tr>\n",
       "    <tr>\n",
       "      <th>4</th>\n",
       "      <td>مصرف</td>\n",
       "      <td>13151</td>\n",
       "    </tr>\n",
       "    <tr>\n",
       "      <th>5</th>\n",
       "      <td>بدن</td>\n",
       "      <td>12752</td>\n",
       "    </tr>\n",
       "    <tr>\n",
       "      <th>6</th>\n",
       "      <td>کاهش</td>\n",
       "      <td>9786</td>\n",
       "    </tr>\n",
       "    <tr>\n",
       "      <th>7</th>\n",
       "      <td>درمان</td>\n",
       "      <td>9637</td>\n",
       "    </tr>\n",
       "    <tr>\n",
       "      <th>8</th>\n",
       "      <td>پوست</td>\n",
       "      <td>8233</td>\n",
       "    </tr>\n",
       "    <tr>\n",
       "      <th>9</th>\n",
       "      <td>آب</td>\n",
       "      <td>8015</td>\n",
       "    </tr>\n",
       "    <tr>\n",
       "      <th>10</th>\n",
       "      <td>کمک</td>\n",
       "      <td>7871</td>\n",
       "    </tr>\n",
       "    <tr>\n",
       "      <th>11</th>\n",
       "      <td>بیماری</td>\n",
       "      <td>7659</td>\n",
       "    </tr>\n",
       "    <tr>\n",
       "      <th>12</th>\n",
       "      <td>صورت</td>\n",
       "      <td>7647</td>\n",
       "    </tr>\n",
       "    <tr>\n",
       "      <th>13</th>\n",
       "      <td>)</td>\n",
       "      <td>7601</td>\n",
       "    </tr>\n",
       "    <tr>\n",
       "      <th>14</th>\n",
       "      <td>افزایش</td>\n",
       "      <td>7558</td>\n",
       "    </tr>\n",
       "    <tr>\n",
       "      <th>15</th>\n",
       "      <td>خون</td>\n",
       "      <td>7538</td>\n",
       "    </tr>\n",
       "    <tr>\n",
       "      <th>16</th>\n",
       "      <td>مواد</td>\n",
       "      <td>7182</td>\n",
       "    </tr>\n",
       "    <tr>\n",
       "      <th>17</th>\n",
       "      <td>(</td>\n",
       "      <td>7167</td>\n",
       "    </tr>\n",
       "    <tr>\n",
       "      <th>18</th>\n",
       "      <td>انجام</td>\n",
       "      <td>7100</td>\n",
       "    </tr>\n",
       "    <tr>\n",
       "      <th>19</th>\n",
       "      <td>قرار</td>\n",
       "      <td>6818</td>\n",
       "    </tr>\n",
       "    <tr>\n",
       "      <th>20</th>\n",
       "      <td>غذایی</td>\n",
       "      <td>6331</td>\n",
       "    </tr>\n",
       "    <tr>\n",
       "      <th>21</th>\n",
       "      <td>ایجاد</td>\n",
       "      <td>5954</td>\n",
       "    </tr>\n",
       "    <tr>\n",
       "      <th>22</th>\n",
       "      <td>درد</td>\n",
       "      <td>5695</td>\n",
       "    </tr>\n",
       "    <tr>\n",
       "      <th>23</th>\n",
       "      <td>پزشک</td>\n",
       "      <td>5282</td>\n",
       "    </tr>\n",
       "    <tr>\n",
       "      <th>24</th>\n",
       "      <td>نشان</td>\n",
       "      <td>4953</td>\n",
       "    </tr>\n",
       "    <tr>\n",
       "      <th>25</th>\n",
       "      <td>روز</td>\n",
       "      <td>4813</td>\n",
       "    </tr>\n",
       "    <tr>\n",
       "      <th>26</th>\n",
       "      <td>علائم</td>\n",
       "      <td>4772</td>\n",
       "    </tr>\n",
       "    <tr>\n",
       "      <th>27</th>\n",
       "      <td>روغن</td>\n",
       "      <td>4655</td>\n",
       "    </tr>\n",
       "    <tr>\n",
       "      <th>28</th>\n",
       "      <td>دهید</td>\n",
       "      <td>4468</td>\n",
       "    </tr>\n",
       "    <tr>\n",
       "      <th>29</th>\n",
       "      <td>ویتامین</td>\n",
       "      <td>4468</td>\n",
       "    </tr>\n",
       "  </tbody>\n",
       "</table>\n",
       "</div>"
      ],
      "text/plain": [
       "          0       1\n",
       "0         .  135766\n",
       "1         ،   98207\n",
       "2         :   18986\n",
       "3   استفاده   15644\n",
       "4      مصرف   13151\n",
       "5       بدن   12752\n",
       "6      کاهش    9786\n",
       "7     درمان    9637\n",
       "8      پوست    8233\n",
       "9        آب    8015\n",
       "10      کمک    7871\n",
       "11   بیماری    7659\n",
       "12     صورت    7647\n",
       "13        )    7601\n",
       "14   افزایش    7558\n",
       "15      خون    7538\n",
       "16     مواد    7182\n",
       "17        (    7167\n",
       "18    انجام    7100\n",
       "19     قرار    6818\n",
       "20    غذایی    6331\n",
       "21    ایجاد    5954\n",
       "22      درد    5695\n",
       "23     پزشک    5282\n",
       "24     نشان    4953\n",
       "25      روز    4813\n",
       "26    علائم    4772\n",
       "27     روغن    4655\n",
       "28     دهید    4468\n",
       "29  ویتامین    4468"
      ]
     },
     "execution_count": 10,
     "metadata": {},
     "output_type": "execute_result"
    }
   ],
   "source": [
    "freq_analysis"
   ]
  },
  {
   "cell_type": "code",
   "execution_count": 11,
   "metadata": {},
   "outputs": [],
   "source": [
    "custom_stop_words = [normalizer.normalize(x.strip()) for x in codecs.open('custom_stopwords.txt','r','utf-8').readlines()]"
   ]
  },
  {
   "cell_type": "code",
   "execution_count": 12,
   "metadata": {},
   "outputs": [],
   "source": [
    "total_stop_words = custom_stop_words + stopwords"
   ]
  },
  {
   "cell_type": "code",
   "execution_count": 13,
   "metadata": {
    "scrolled": false
   },
   "outputs": [
    {
     "name": "stderr",
     "output_type": "stream",
     "text": [
      "100%|█████████████████████████████████████████████████████████████████████████████| 4322/4322 [00:12<00:00, 345.82it/s]\n"
     ]
    }
   ],
   "source": [
    "freq_analysis, tokens = create_dataframe_freq(normalized_data, total_stop_words)"
   ]
  },
  {
   "cell_type": "code",
   "execution_count": 14,
   "metadata": {},
   "outputs": [
    {
     "data": {
      "text/html": [
       "<div>\n",
       "<style scoped>\n",
       "    .dataframe tbody tr th:only-of-type {\n",
       "        vertical-align: middle;\n",
       "    }\n",
       "\n",
       "    .dataframe tbody tr th {\n",
       "        vertical-align: top;\n",
       "    }\n",
       "\n",
       "    .dataframe thead th {\n",
       "        text-align: right;\n",
       "    }\n",
       "</style>\n",
       "<table border=\"1\" class=\"dataframe\">\n",
       "  <thead>\n",
       "    <tr style=\"text-align: right;\">\n",
       "      <th></th>\n",
       "      <th>0</th>\n",
       "      <th>1</th>\n",
       "    </tr>\n",
       "  </thead>\n",
       "  <tbody>\n",
       "    <tr>\n",
       "      <th>0</th>\n",
       "      <td>استفاده</td>\n",
       "      <td>15644</td>\n",
       "    </tr>\n",
       "    <tr>\n",
       "      <th>1</th>\n",
       "      <td>مصرف</td>\n",
       "      <td>13151</td>\n",
       "    </tr>\n",
       "    <tr>\n",
       "      <th>2</th>\n",
       "      <td>بدن</td>\n",
       "      <td>12752</td>\n",
       "    </tr>\n",
       "    <tr>\n",
       "      <th>3</th>\n",
       "      <td>کاهش</td>\n",
       "      <td>9786</td>\n",
       "    </tr>\n",
       "    <tr>\n",
       "      <th>4</th>\n",
       "      <td>درمان</td>\n",
       "      <td>9637</td>\n",
       "    </tr>\n",
       "    <tr>\n",
       "      <th>5</th>\n",
       "      <td>پوست</td>\n",
       "      <td>8233</td>\n",
       "    </tr>\n",
       "    <tr>\n",
       "      <th>6</th>\n",
       "      <td>آب</td>\n",
       "      <td>8015</td>\n",
       "    </tr>\n",
       "    <tr>\n",
       "      <th>7</th>\n",
       "      <td>کمک</td>\n",
       "      <td>7871</td>\n",
       "    </tr>\n",
       "    <tr>\n",
       "      <th>8</th>\n",
       "      <td>بیماری</td>\n",
       "      <td>7659</td>\n",
       "    </tr>\n",
       "    <tr>\n",
       "      <th>9</th>\n",
       "      <td>صورت</td>\n",
       "      <td>7647</td>\n",
       "    </tr>\n",
       "    <tr>\n",
       "      <th>10</th>\n",
       "      <td>افزایش</td>\n",
       "      <td>7558</td>\n",
       "    </tr>\n",
       "    <tr>\n",
       "      <th>11</th>\n",
       "      <td>خون</td>\n",
       "      <td>7538</td>\n",
       "    </tr>\n",
       "    <tr>\n",
       "      <th>12</th>\n",
       "      <td>مواد</td>\n",
       "      <td>7182</td>\n",
       "    </tr>\n",
       "    <tr>\n",
       "      <th>13</th>\n",
       "      <td>انجام</td>\n",
       "      <td>7100</td>\n",
       "    </tr>\n",
       "    <tr>\n",
       "      <th>14</th>\n",
       "      <td>قرار</td>\n",
       "      <td>6818</td>\n",
       "    </tr>\n",
       "    <tr>\n",
       "      <th>15</th>\n",
       "      <td>غذایی</td>\n",
       "      <td>6331</td>\n",
       "    </tr>\n",
       "    <tr>\n",
       "      <th>16</th>\n",
       "      <td>ایجاد</td>\n",
       "      <td>5954</td>\n",
       "    </tr>\n",
       "    <tr>\n",
       "      <th>17</th>\n",
       "      <td>درد</td>\n",
       "      <td>5695</td>\n",
       "    </tr>\n",
       "    <tr>\n",
       "      <th>18</th>\n",
       "      <td>پزشک</td>\n",
       "      <td>5282</td>\n",
       "    </tr>\n",
       "    <tr>\n",
       "      <th>19</th>\n",
       "      <td>نشان</td>\n",
       "      <td>4953</td>\n",
       "    </tr>\n",
       "    <tr>\n",
       "      <th>20</th>\n",
       "      <td>روز</td>\n",
       "      <td>4813</td>\n",
       "    </tr>\n",
       "    <tr>\n",
       "      <th>21</th>\n",
       "      <td>علائم</td>\n",
       "      <td>4772</td>\n",
       "    </tr>\n",
       "    <tr>\n",
       "      <th>22</th>\n",
       "      <td>روغن</td>\n",
       "      <td>4655</td>\n",
       "    </tr>\n",
       "    <tr>\n",
       "      <th>23</th>\n",
       "      <td>دهید</td>\n",
       "      <td>4468</td>\n",
       "    </tr>\n",
       "    <tr>\n",
       "      <th>24</th>\n",
       "      <td>ویتامین</td>\n",
       "      <td>4468</td>\n",
       "    </tr>\n",
       "    <tr>\n",
       "      <th>25</th>\n",
       "      <td>کار</td>\n",
       "      <td>4410</td>\n",
       "    </tr>\n",
       "    <tr>\n",
       "      <th>26</th>\n",
       "      <td>سلامت</td>\n",
       "      <td>4340</td>\n",
       "    </tr>\n",
       "    <tr>\n",
       "      <th>27</th>\n",
       "      <td>سرطان</td>\n",
       "      <td>4298</td>\n",
       "    </tr>\n",
       "    <tr>\n",
       "      <th>28</th>\n",
       "      <td>دلیل</td>\n",
       "      <td>4234</td>\n",
       "    </tr>\n",
       "    <tr>\n",
       "      <th>29</th>\n",
       "      <td>گرم</td>\n",
       "      <td>4204</td>\n",
       "    </tr>\n",
       "  </tbody>\n",
       "</table>\n",
       "</div>"
      ],
      "text/plain": [
       "          0      1\n",
       "0   استفاده  15644\n",
       "1      مصرف  13151\n",
       "2       بدن  12752\n",
       "3      کاهش   9786\n",
       "4     درمان   9637\n",
       "5      پوست   8233\n",
       "6        آب   8015\n",
       "7       کمک   7871\n",
       "8    بیماری   7659\n",
       "9      صورت   7647\n",
       "10   افزایش   7558\n",
       "11      خون   7538\n",
       "12     مواد   7182\n",
       "13    انجام   7100\n",
       "14     قرار   6818\n",
       "15    غذایی   6331\n",
       "16    ایجاد   5954\n",
       "17      درد   5695\n",
       "18     پزشک   5282\n",
       "19     نشان   4953\n",
       "20      روز   4813\n",
       "21    علائم   4772\n",
       "22     روغن   4655\n",
       "23     دهید   4468\n",
       "24  ویتامین   4468\n",
       "25      کار   4410\n",
       "26    سلامت   4340\n",
       "27    سرطان   4298\n",
       "28     دلیل   4234\n",
       "29      گرم   4204"
      ]
     },
     "execution_count": 14,
     "metadata": {},
     "output_type": "execute_result"
    }
   ],
   "source": [
    "freq_analysis"
   ]
  },
  {
   "cell_type": "code",
   "execution_count": 15,
   "metadata": {},
   "outputs": [
    {
     "name": "stderr",
     "output_type": "stream",
     "text": [
      "100%|█████████████████████████████████████████████████████████████████████████████| 4322/4322 [00:13<00:00, 328.94it/s]\n"
     ]
    }
   ],
   "source": [
    "all_doc_tokens = []\n",
    "for item in tqdm.tqdm(normalized_data):\n",
    "    all_doc_tokens.append([_ for _ in word_tokenize(item['text'])  if _ not in total_stop_words])"
   ]
  },
  {
   "cell_type": "markdown",
   "metadata": {},
   "source": [
    "## Lematize"
   ]
  },
  {
   "cell_type": "code",
   "execution_count": 16,
   "metadata": {},
   "outputs": [],
   "source": [
    "stemmer = Stemmer()\n",
    "lemmatizer = Lemmatizer()\n",
    "\n",
    "def get_lemma_set(tok, opt=1):\n",
    "    if opt ==1:\n",
    "        return stemmer.stem(tok)\n",
    "    if opt ==2:\n",
    "        return lemmatizer.lemmatize(tok)"
   ]
  },
  {
   "cell_type": "code",
   "execution_count": 17,
   "metadata": {},
   "outputs": [],
   "source": [
    "opt = 2\n",
    "tokens_after_lem = []\n",
    "\n",
    "for tokens in all_doc_tokens:\n",
    "    tokens_after_lem.append([get_lemma_set(token, opt) for token in tokens])"
   ]
  },
  {
   "cell_type": "markdown",
   "metadata": {},
   "source": [
    "## tfidf"
   ]
  },
  {
   "cell_type": "code",
   "execution_count": 32,
   "metadata": {},
   "outputs": [],
   "source": [
    "tfidfvectorizer = TfidfVectorizer(analyzer='word', stop_words=total_stop_words, ngram_range=(1,3), min_df=2)\n",
    "doc_term_mat = tfidfvectorizer.fit_transform([' '.join(doc) for doc in tokens_after_lem])"
   ]
  },
  {
   "cell_type": "code",
   "execution_count": 33,
   "metadata": {},
   "outputs": [
    {
     "data": {
      "text/plain": [
       "(4322, 349214)"
      ]
     },
     "execution_count": 33,
     "metadata": {},
     "output_type": "execute_result"
    }
   ],
   "source": [
    "doc_term_mat.shape"
   ]
  },
  {
   "cell_type": "code",
   "execution_count": 34,
   "metadata": {},
   "outputs": [],
   "source": [
    "# save tfidf vectorizer\n",
    "with open('../models/tfidfvectorizer.pk', 'wb') as fin:\n",
    "    pickle.dump(tfidfvectorizer, fin)"
   ]
  },
  {
   "cell_type": "code",
   "execution_count": 35,
   "metadata": {},
   "outputs": [],
   "source": [
    "# load tfidf vectorizer\n",
    "with open('../models/tfidfvectorizer.pk', 'rb') as fin:\n",
    "    tfidfvectorizer_loaded = pickle.load(fin)"
   ]
  },
  {
   "cell_type": "code",
   "execution_count": 36,
   "metadata": {},
   "outputs": [
    {
     "data": {
      "text/plain": [
       "<1x349214 sparse matrix of type '<class 'numpy.float64'>'\n",
       "\twith 4 stored elements in Compressed Sparse Row format>"
      ]
     },
     "execution_count": 36,
     "metadata": {},
     "output_type": "execute_result"
    }
   ],
   "source": [
    "tfidfvectorizer_loaded.transform(['ریزش مو در مردان'])"
   ]
  },
  {
   "cell_type": "code",
   "execution_count": 37,
   "metadata": {},
   "outputs": [],
   "source": [
    "# save matrix\n",
    "os.makedirs('../models', exist_ok=True)\n",
    "sparse.save_npz(\"../models/doc-term-tfidf.npz\", doc_term_mat)"
   ]
  },
  {
   "cell_type": "code",
   "execution_count": 38,
   "metadata": {},
   "outputs": [],
   "source": [
    "# save doc data\n",
    "data = []\n",
    "for i, item in enumerate(normalized_data):\n",
    "    data.append({'title': item['title'], 'link':item['link']})\n",
    "with open(f'../models/doc-term-tfidf-data.json', 'w', encoding=\"utf-8\") as f:\n",
    "    json.dump(data, f)"
   ]
  },
  {
   "cell_type": "code",
   "execution_count": 39,
   "metadata": {},
   "outputs": [],
   "source": [
    "# load matrix\n",
    "doc_term_mat = sparse.load_npz(\"../models/doc-term-tfidf.npz\")"
   ]
  },
  {
   "cell_type": "code",
   "execution_count": 40,
   "metadata": {},
   "outputs": [
    {
     "data": {
      "text/plain": [
       "(4322, 349214)"
      ]
     },
     "execution_count": 40,
     "metadata": {},
     "output_type": "execute_result"
    }
   ],
   "source": [
    "doc_term_mat.shape"
   ]
  },
  {
   "cell_type": "code",
   "execution_count": 27,
   "metadata": {},
   "outputs": [],
   "source": [
    "class TfidfModel:\n",
    "    def __init__(self):\n",
    "        self.doc_term_mat = sparse.load_npz(\"../models/doc-term-tfidf.npz\")\n",
    "        with open(f'../models/doc-term-tfidf-data.json', 'r', encoding=\"utf-8\") as f:\n",
    "            self.docs_data = json.loads(f.read())\n",
    "        with open('../models/tfidfvectorizer.pk', 'rb') as fin:\n",
    "            self.tfidfvectorizer = pickle.load(fin)\n",
    "        self.normalizer = Normalizer()\n",
    "        stopwords = [self.normalizer.normalize(x.strip()) for x in codecs.open('stopwords.txt','r','utf-8').readlines()]\n",
    "        custom_stop_words = [self.normalizer.normalize(x.strip()) for x in codecs.open('custom_stopwords.txt','r','utf-8').readlines()]\n",
    "        self.total_stop_words = custom_stop_words + stopwords\n",
    "    \n",
    "    def print_similars(self, query, k=10):\n",
    "        ls = self.get_query(query, k)\n",
    "        for i, item in enumerate(ls):\n",
    "            print(f'{i + 1}- title: {item[0]}')\n",
    "            print(f'{i + 1}- link: {item[1]}')\n",
    "            print('-------------------------')\n",
    "    \n",
    "    def get_query(self, query, k=10):\n",
    "        query_tokens = [_ for _ in word_tokenize(self.normalizer.normalize(query)) if _ not in self.total_stop_words]\n",
    "        emb = self.tfidfvectorizer.transform([' '.join(query_tokens)])\n",
    "        docs = []\n",
    "        for i, doc in enumerate(self.doc_term_mat):\n",
    "            docs.append({'title': self.docs_data[i]['title'], 'emb':doc[0].toarray()[0], 'link':self.docs_data[i]['link']})\n",
    "        return self.nearest_neighbor(emb[0].toarray()[0], docs, k)\n",
    "    \n",
    "    def cosine_similarity(self, vector_1: np.ndarray, vector_2: np.ndarray) -> float:\n",
    "        return np.dot(vector_1, vector_2)/(np.linalg.norm(vector_1) *\n",
    "                                          np.linalg.norm(vector_2))\n",
    "    \n",
    "    def nearest_neighbor(self, v, doc_embs, k):\n",
    "        data = {}\n",
    "        for doc in doc_embs:\n",
    "            data[doc['title']] = (self.cosine_similarity(v, doc['emb']), doc['link'])\n",
    "        return [(k,v[1]) for k, v in sorted(data.items(), key=lambda item: item[1][0])][::-1][:k]"
   ]
  },
  {
   "cell_type": "code",
   "execution_count": 28,
   "metadata": {},
   "outputs": [
    {
     "name": "stdout",
     "output_type": "stream",
     "text": [
      "1- title: علائم ویروس کرونا در کودکان چه تفاوتی دارد؟\n",
      "1- link: https://www.hidoctor.ir/352565_%d8%b9%d9%84%d8%a7%d8%a6%d9%85-%d9%88%db%8c%d8%b1%d9%88%d8%b3-%da%a9%d8%b1%d9%88%d9%86%d8%a7-%d8%af%d8%b1-%da%a9%d9%88%d8%af%da%a9%d8%a7%d9%86-%da%86%d9%87-%d8%aa%d9%81%d8%a7%d9%88%d8%aa%db%8c-%d8%af.html/\n",
      "-------------------------\n",
      "2- title: در مورد بیماری کرونا ویروس چه می‌دانید؟\n",
      "2- link: https://www.hidoctor.ir/346899_%d8%af%d8%b1-%d9%85%d9%88%d8%b1%d8%af-%d8%a8%db%8c%d9%85%d8%a7%d8%b1%db%8c-%da%a9%d8%b1%d9%88%d9%86%d8%a7-%d9%88%db%8c%d8%b1%d9%88%d8%b3-%da%86%d9%87-%d9%85%db%8c-%d8%af%d8%a7%d9%86%db%8c%d8%af%d8%9f.html/\n",
      "-------------------------\n",
      "3- title: چطور بفهمم دلیل سردردم کروناست؟\n",
      "3- link: https://namnak.com/headache-coronavirus-symptom.p81893\n",
      "-------------------------\n",
      "4- title: شایع‌ترین علائم پس از ابتلا به کرونا / چه زمانی باید درخواست کمک کنیم؟\n",
      "4- link: https://www.hidoctor.ir/354939_%d8%b4%d8%a7%db%8c%d8%b9-%d8%aa%d8%b1%db%8c%d9%86-%d8%b9%d9%84%d8%a7%d8%a6%d9%85-%d9%be%d8%b3-%d8%a7%d8%b2-%d8%a7%d8%a8%d8%aa%d9%84%d8%a7-%d8%a8%d9%87-%da%a9%d8%b1%d9%88%d9%86%d8%a7-%da%86%d9%87.html/\n",
      "-------------------------\n",
      "5- title: اسهال و علائم گوارشی ناشی از کرونا + راه‌های درمان آن\n",
      "5- link: https://www.hidoctor.ir/351713_%d8%a7%d8%b3%d9%87%d8%a7%d9%84-%d9%88-%d8%b9%d9%84%d8%a7%d8%a6%d9%85-%da%af%d9%88%d8%a7%d8%b1%d8%b4%db%8c-%d9%86%d8%a7%d8%b4%db%8c-%d8%a7%d8%b2-%da%a9%d8%b1%d9%88%d9%86%d8%a7-%d8%b1%d8%a7%d9%87.html/\n",
      "-------------------------\n",
      "6- title: گروه‌های سنی۲۰ تا ۴۹ سال کرونا را بیشتر گسترش می‌دهند\n",
      "6- link: https://www.hidoctor.ir/353312_%da%af%d8%b1%d9%88%d9%87-%d9%87%d8%a7%db%8c-%d8%b3%d9%86%db%8c20-%d8%aa%d8%a7-49-%d8%b3%d8%a7%d9%84-%da%a9%d8%b1%d9%88%d9%86%d8%a7-%d8%b1%d8%a7-%d8%a8%db%8c%d8%b4%d8%aa%d8%b1-%da%af%d8%b3.html/\n",
      "-------------------------\n",
      "7- title: مراقب افراد بدون علامت باشید / افراد ناقل تا ۶۰درصد قدرت شیوع دارند\n",
      "7- link: https://www.hidoctor.ir/352514_%d9%85%d8%b1%d8%a7%d9%82%d8%a8-%d8%a7%d9%81%d8%b1%d8%a7%d8%af-%d8%a8%d8%af%d9%88%d9%86-%d8%b9%d9%84%d8%a7%d9%85%d8%aa-%d8%a8%d8%a7%d8%b4%db%8c%d8%af-%d8%a7%d9%81%d8%b1%d8%a7%d8%af-%d9%86%d8%a7%d9%82.html/\n",
      "-------------------------\n",
      "8- title: ۵ علامت ویروس کرونا که بیشتر مهمان بدن هستند\n",
      "8- link: https://www.hidoctor.ir/352600_5-%d8%b9%d9%84%d8%a7%d9%85%d8%aa-%d9%88%db%8c%d8%b1%d9%88%d8%b3-%da%a9%d8%b1%d9%88%d9%86%d8%a7-%da%a9%d9%87-%d8%a8%db%8c%d8%b4%d8%aa%d8%b1-%d9%85%d9%87%d9%85%d8%a7%d9%86-%d8%a8.html/\n",
      "-------------------------\n",
      "9- title: آیا کرونا به چشم آسیب می‌رساند؟\n",
      "9- link: https://www.hidoctor.ir/353377_%d8%a2%db%8c%d8%a7-%da%a9%d8%b1%d9%88%d9%86%d8%a7-%d8%a8%d9%87-%da%86%d8%b4%d9%85-%d8%a2%d8%b3%db%8c%d8%a8-%d9%85%db%8c-%d8%b1%d8%b3%d8%a7%d9%86%d8%af%d8%9f.html/\n",
      "-------------------------\n",
      "10- title: ۱۷ میلیون راسو به دلیل کرونا به قتل می‌رسند\n",
      "10- link: https://www.hidoctor.ir/350817_17-%d9%85%db%8c%d9%84%db%8c%d9%88%d9%86-%d8%b1%d8%a7%d8%b3%d9%88-%d8%a8%d9%87-%d8%af%d9%84%db%8c%d9%84-%da%a9%d8%b1%d9%88%d9%86%d8%a7-%d8%a8%d9%87-%d9%82%d8%aa%d9%84-%d9%85%db%8c-%d8%b1%d8%b3%d9%86.html/\n",
      "-------------------------\n"
     ]
    }
   ],
   "source": [
    "TfidfModel().print_similars('ویروس کرونا')"
   ]
  },
  {
   "cell_type": "code",
   "execution_count": 34,
   "metadata": {},
   "outputs": [
    {
     "name": "stdout",
     "output_type": "stream",
     "text": [
      "1- title: علت دندان درد در هواپیما و راه‌های تسکین درد دندان در سفرهای هوایی\n",
      "1- link: https://www.hidoctor.ir/355939_%d8%b9%d9%84%d8%aa-%d8%af%d9%86%d8%af%d8%a7%d9%86-%d8%af%d8%b1%d8%af-%d8%af%d8%b1-%d9%87%d9%88%d8%a7%d9%be%db%8c%d9%85%d8%a7-%d9%88-%d8%b1%d8%a7%d9%87-%d9%87%d8%a7%db%8c-%d8%aa%d8%b3%da%a9%db%8c%d9%86.html/\n",
      "-------------------------\n",
      "2- title: علت اصلی انواع درد و مشکلات دندان و لثه\n",
      "2- link: https://namnak.com/مشکل-دندان.p51702\n",
      "-------------------------\n",
      "3- title: این افراد بیشتر مراقب پوسیدگی دندان باشند!\n",
      "3- link: https://namnak.com/پوسیدگی-دندان.p143\n",
      "-------------------------\n",
      "4- title: رازهای فوق العاده جذاب درباره دندان‌ها\n",
      "4- link: https://namnak.com/facts-about-teeth.p79756\n",
      "-------------------------\n",
      "5- title: این درد و حالت در دندان شما یعنی عصب کشی لازم دارید\n",
      "5- link: https://namnak.com/عصب-کشی-دندان.p9578\n",
      "-------------------------\n",
      "6- title: روش‌های سریع برای درمان گیاهی و خانگی «حساسیت دندان»\n",
      "6- link: https://namnak.com/دکترعلت-حساسیت-دندان.p19355\n",
      "-------------------------\n",
      "7- title: ۶ دلیل خراب شدن دندان‌ها حتی با وجود مسواک زدن\n",
      "7- link: https://www.hidoctor.ir/354859_6-%d8%af%d9%84%db%8c%d9%84-%d8%ae%d8%b1%d8%a7%d8%a8-%d8%b4%d8%af%d9%86-%d8%af%d9%86%d8%af%d8%a7%d9%86-%d9%87%d8%a7-%d8%ad%d8%aa%db%8c-%d8%a8%d8%a7-%d9%88%d8%ac%d9%88%d8%af-%d9%85%d8%b3%d9%88%d8%a7.html/\n",
      "-------------------------\n",
      "8- title: هیولای وحشتناک روی دندان پوسیده را از نزدیک ببینید + تصاویر\n",
      "8- link: https://namnak.com/هیولای-وحشتناک-روی-دندان-پوسیده.p26187\n",
      "-------------------------\n",
      "9- title: عوارض و عواقب پر کردن دندان\n",
      "9- link: https://namnak.com/پر-کردن-دندان.p22614\n",
      "-------------------------\n",
      "10- title: علت تغییر رنگ دندان در افراد مختلف\n",
      "10- link: https://namnak.com/سفید-کردن-دندان.p64869\n",
      "-------------------------\n"
     ]
    }
   ],
   "source": [
    "TfidfModel().print_similars('دندان درد')"
   ]
  },
  {
   "cell_type": "code",
   "execution_count": 35,
   "metadata": {},
   "outputs": [
    {
     "name": "stdout",
     "output_type": "stream",
     "text": [
      "1- title: درمان ریزش مو با نسخه‌های گیاهی هندی‌ها\n",
      "1- link: https://namnak.com/درمان-ریزش-مو.p23076\n",
      "-------------------------\n",
      "2- title: راه‌های درمان ریزش مو بعد از کرونا\n",
      "2- link: https://www.hidoctor.ir/357200_%d8%b1%d8%a7%d9%87%e2%80%8c%d9%87%d8%a7%db%8c-%d8%af%d8%b1%d9%85%d8%a7%d9%86-%d8%b1%db%8c%d8%b2%d8%b4-%d9%85%d9%88-%d8%a8%d8%b9%d8%af-%d8%a7%d8%b2-%da%a9%d8%b1%d9%88%d9%86%d8%a7.html/\n",
      "-------------------------\n",
      "3- title: چهار تا از بهترین شامپو‌ها برای جلوگیری از ریزش مو\n",
      "3- link: https://www.hidoctor.ir/354908_%da%86%d9%87%d8%a7%d8%b1-%d8%aa%d8%a7-%d8%a7%d8%b2-%d8%a8%d9%87%d8%aa%d8%b1%db%8c%d9%86-%d8%b4%d8%a7%d9%85%d9%be%d9%88-%d9%87%d8%a7-%d8%a8%d8%b1%d8%a7%db%8c-%d8%ac%d9%84%d9%88%da%af%db%8c%d8%b1%db%8c.html/\n",
      "-------------------------\n",
      "4- title: نکات مهم برای جلوگیری از ریزش مو در خانم‌ها و آقایان\n",
      "4- link: https://www.hidoctor.ir/355441_%d9%86%da%a9%d8%a7%d8%aa-%d9%85%d9%87%d9%85-%d8%a8%d8%b1%d8%a7%db%8c-%d8%ac%d9%84%d9%88%da%af%db%8c%d8%b1%db%8c-%d8%a7%d8%b2-%d8%b1%db%8c%d8%b2%d8%b4-%d9%85%d9%88-%d8%af%d8%b1-%d8%ae%d8%a7%d9%86%d9%85.html/\n",
      "-------------------------\n",
      "5- title: وقتی موهای بدن هشدار می‌دهند!\n",
      "5- link: https://namnak.com/body-hair-says-about-health.p77001\n",
      "-------------------------\n",
      "6- title: چگونه ریزش مو را درمان کنیم؟\n",
      "6- link: https://www.hidoctor.ir/355075_%da%86%da%af%d9%88%d9%86%d9%87-%d8%b1%db%8c%d8%b2%d8%b4-%d9%85%d9%88-%d8%b1%d8%a7-%d8%af%d8%b1%d9%85%d8%a7%d9%86-%da%a9%d9%86%db%8c%d9%85%d8%9f.html/\n",
      "-------------------------\n",
      "7- title: دلایل ریزش مو در زنان\n",
      "7- link: https://namnak.com/ریزش-مو.p65282\n",
      "-------------------------\n",
      "8- title: بهترین قرص ریزش مو چه ویژگی هایی دارد؟\n",
      "8- link: https://www.hidoctor.ir/353189_%d8%a8%d9%87%d8%aa%d8%b1%db%8c%d9%86-%d9%82%d8%b1%d8%b5-%d8%b1%db%8c%d8%b2%d8%b4-%d9%85%d9%88-%da%86%d9%87-%d9%88%db%8c%da%98%da%af%db%8c-%d9%87%d8%a7%db%8c%db%8c-%d8%af%d8%a7%d8%b1%d8%af.html/\n",
      "-------------------------\n",
      "9- title: اگر مشکل ریزش مو دارید با این روش سنتی درمان کنید\n",
      "9- link: https://www.hidoctor.ir/101684_%d8%a7%da%af%d8%b1-%d9%85%d8%b4%da%a9%d9%84-%d8%b1%db%8c%d8%b2%d8%b4-%d9%85%d9%88-%d8%af%d8%a7%d8%b1%db%8c%d8%af-%d8%a8%d8%a7-%d8%a7%db%8c%d9%86-%d8%b1%d9%88%d8%b4-%d8%b3%d9%86%d8%aa%db%8c-%d8%af.html/\n",
      "-------------------------\n",
      "10- title: آیا کاشت مو می‌تواند ریزش ژنتیکی مو را درمان کند؟\n",
      "10- link: https://www.hidoctor.ir/353142_%d8%a2%db%8c%d8%a7-%da%a9%d8%a7%d8%b4%d8%aa-%d9%85%d9%88-%d9%85%db%8c-%d8%aa%d9%88%d8%a7%d9%86%d8%af-%d8%b1%db%8c%d8%b2%d8%b4-%da%98%d9%86%d8%aa%db%8c%da%a9%db%8c-%d9%85%d9%88-%d8%b1%d8%a7-%d8%af.html/\n",
      "-------------------------\n"
     ]
    }
   ],
   "source": [
    "TfidfModel().print_similars('ریزش مو')"
   ]
  },
  {
   "cell_type": "code",
   "execution_count": 36,
   "metadata": {},
   "outputs": [
    {
     "name": "stdout",
     "output_type": "stream",
     "text": [
      "1- title: ردپای مواد مخدر روی مغز نوجوانان!!\n",
      "1- link: https://namnak.com/drugs-and-teens.p45658\n",
      "-------------------------\n",
      "2- title: اعتیاد به این مواد مخدر ترک ندارد!\n",
      "2- link: https://namnak.com/اعتیاد-به-این-مواد-مخدر-ترک-ندارد.p20238\n",
      "-------------------------\n",
      "3- title: مواد مخدرهای ویرانگر با تاثیرات باورنکردنی\n",
      "3- link: https://namnak.com/مواد-مخدر.p61060\n",
      "-------------------------\n",
      "4- title: درباره مواد مخدر تسبیح چه میدانید\n",
      "4- link: https://namnak.com/مواد-مخدر-تسبیح.p32839\n",
      "-------------------------\n",
      "5- title: عوامل موثر دراعتیاد جوانان به مواد مخدر\n",
      "5- link: https://namnak.com/مسیر-پر-خطر-اعتیاد.p43562\n",
      "-------------------------\n",
      "6- title: کراتوم چیست؟ تعریف، تاریخچه و فواید کراتوم\n",
      "6- link: https://www.hidoctor.ir/333316_%da%a9%d8%b1%d8%a7%d8%aa%d9%88%d9%85.html/\n",
      "-------------------------\n",
      "7- title: اکثر قرصهای خواب، لاغرکننده و اشتهاآور با مواد مخدر تهیه می‌شود\n",
      "7- link: https://www.hidoctor.ir/529_%d8%a7%d9%83%d8%ab%d8%b1-%d9%82%d8%b1%d8%b5%d9%87%d8%a7%d9%8a-%d8%ae%d9%88%d8%a7%d8%a8-%d8%8c-%d9%84%d8%a7%d8%ba%d8%b1%d9%83%d9%86%d9%86%d8%af%d9%87-%d9%88-%d8%a7%d8%b4%d8%aa%d9%87%d8%a7%d8%a2%d9%88.html/\n",
      "-------------------------\n",
      "8- title: مواد اعتیاد آور جدید واقعی نیستند\n",
      "8- link: https://www.hidoctor.ir/2210_%d9%85%d9%88%d8%a7%d8%af-%d8%a7%d8%b9%d8%aa%d9%8a%d8%a7%d8%af-%d8%a2%d9%88%d8%b1-%d8%ac%d8%af%d9%8a%d8%af-%d9%88%d8%a7%d9%82%d8%b9%d9%8a-%d9%86%d9%8a%d8%b3%d8%aa%d9%86%d8%af.html/\n",
      "-------------------------\n",
      "9- title: قرصی که صد درجه از مواد مخدر بدتر است\n",
      "9- link: https://www.hidoctor.ir/29107_%d9%82%d8%b1%d8%b5%db%8c-%da%a9%d9%87-%d8%b5%d8%af-%d8%af%d8%b1%d8%ac%d9%87-%d8%a7%d8%b2-%d9%85%d9%88%d8%a7%d8%af-%d9%85%d8%ae%d8%af%d8%b1-%d8%a8%d8%af%d8%aa%d8%b1-%d8%a7%d8%b3%d8%aa.html/\n",
      "-------------------------\n",
      "10- title: عوارض مشابه گوشی موبایل هوشمند و مواد مخدر در جوانان \n",
      "10- link: https://namnak.com/گوشی-موبایل-هوشمند.p65629\n",
      "-------------------------\n"
     ]
    }
   ],
   "source": [
    "TfidfModel().print_similars('مواد مخدر')"
   ]
  }
 ],
 "metadata": {
  "interpreter": {
   "hash": "f336af7d54ba0f0c1daaf2256eb85f31e983e88153daf7a27ef3ea6c724faba4"
  },
  "kernelspec": {
   "display_name": "Python 3",
   "language": "python",
   "name": "python3"
  },
  "language_info": {
   "codemirror_mode": {
    "name": "ipython",
    "version": 3
   },
   "file_extension": ".py",
   "mimetype": "text/x-python",
   "name": "python",
   "nbconvert_exporter": "python",
   "pygments_lexer": "ipython3",
   "version": "3.8.5"
  }
 },
 "nbformat": 4,
 "nbformat_minor": 4
}
