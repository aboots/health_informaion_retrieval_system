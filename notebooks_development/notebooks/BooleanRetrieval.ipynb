{
 "cells": [
  {
   "cell_type": "code",
   "execution_count": 1,
   "metadata": {},
   "outputs": [],
   "source": [
    "import codecs\n",
    "import os\n",
    "import json\n",
    "import pickle\n",
    "import tqdm\n",
    "import numpy as np\n",
    "from hazm import *\n",
    "from itertools import chain\n",
    "from random import shuffle\n",
    "from scipy import sparse"
   ]
  },
  {
   "cell_type": "code",
   "execution_count": 2,
   "metadata": {},
   "outputs": [],
   "source": [
    "import json\n",
    "\n",
    "DIRNAME = '../dataset'\n",
    "data = []\n",
    "for i in range(1, 8):\n",
    "    with open(f'{DIRNAME}/namnak-p{i}.json', 'r', encoding=\"utf-8\") as f:\n",
    "        data.extend(json.loads(f.read()))\n",
    "    with open(f'{DIRNAME}/hidoctor-p{i}.json', 'r', encoding=\"utf-8\") as f:\n",
    "        data.extend(json.loads(f.read()))"
   ]
  },
  {
   "cell_type": "code",
   "execution_count": 3,
   "metadata": {},
   "outputs": [
    {
     "name": "stderr",
     "output_type": "stream",
     "text": [
      "100%|█████████████████████████████████████████████████████████████████████████████| 4322/4322 [00:10<00:00, 425.94it/s]\n"
     ]
    }
   ],
   "source": [
    "# normalization\n",
    "from hazm import *\n",
    "\n",
    "normalizer = Normalizer()\n",
    "\n",
    "normalized_data = []\n",
    "for item in tqdm.tqdm(data):\n",
    "    normalized_data.append({\"title\" : normalizer.normalize(item['title']), \"text\":normalizer.normalize(item['text']), 'link':item['link']})"
   ]
  },
  {
   "cell_type": "code",
   "execution_count": 4,
   "metadata": {},
   "outputs": [],
   "source": [
    "# Persian Stopwords\n",
    "# https://github.com/sobhe/hazm/blob/master/hazm/data/stopwords.dat\n",
    "stopwords = [normalizer.normalize(x.strip()) for x in codecs.open('stopwords.txt','r','utf-8').readlines()]\n",
    "custom_stop_words = [normalizer.normalize(x.strip()) for x in codecs.open('custom_stopwords.txt','r','utf-8').readlines()]\n",
    "total_stop_words = custom_stop_words + stopwords"
   ]
  },
  {
   "cell_type": "code",
   "execution_count": 5,
   "metadata": {},
   "outputs": [
    {
     "name": "stderr",
     "output_type": "stream",
     "text": [
      "100%|█████████████████████████████████████████████████████████████████████████████| 4322/4322 [00:19<00:00, 226.52it/s]\n"
     ]
    }
   ],
   "source": [
    "all_doc_tokens = []\n",
    "for item in tqdm.tqdm(normalized_data):\n",
    "  all_doc_tokens.append([_ for _ in word_tokenize(item['text'])  if _ not in total_stop_words])"
   ]
  },
  {
   "cell_type": "code",
   "execution_count": 6,
   "metadata": {},
   "outputs": [],
   "source": [
    "stemmer = Stemmer()\n",
    "lemmatizer = Lemmatizer()\n",
    "\n",
    "def get_lemma_set(tok, opt=1):\n",
    "    if opt ==1:\n",
    "        return stemmer.stem(tok)\n",
    "    if opt ==2:\n",
    "        return lemmatizer.lemmatize(tok)"
   ]
  },
  {
   "cell_type": "code",
   "execution_count": 7,
   "metadata": {},
   "outputs": [],
   "source": [
    "opt = 2\n",
    "tokens_after_lem = []\n",
    "\n",
    "for tokens in all_doc_tokens:\n",
    "    tokens_after_lem.append([get_lemma_set(token, opt) for token in tokens])"
   ]
  },
  {
   "cell_type": "code",
   "execution_count": 8,
   "metadata": {},
   "outputs": [],
   "source": [
    "def create_boolean_matrix():\n",
    "  all_tokens = list(set(chain.from_iterable(tokens_after_lem)))\n",
    "  titles = []\n",
    "  for item in normalized_data:\n",
    "    titles.append(item['title'])\n",
    "  matrix = np.zeros(shape=(len(normalized_data), len(all_tokens)), dtype=bool)\n",
    "  for i in range(len(tokens_after_lem)):\n",
    "    title = normalized_data[i]['title']\n",
    "    for token in tokens_after_lem[i]:\n",
    "      matrix[titles.index(title)][all_tokens.index(token)] = True\n",
    "  return matrix, titles, all_tokens"
   ]
  },
  {
   "cell_type": "code",
   "execution_count": 9,
   "metadata": {},
   "outputs": [],
   "source": [
    "boolean_matrix, titles, all_tokens = create_boolean_matrix()"
   ]
  },
  {
   "cell_type": "code",
   "execution_count": 10,
   "metadata": {},
   "outputs": [
    {
     "data": {
      "text/plain": [
       "(4322, 43421)"
      ]
     },
     "execution_count": 10,
     "metadata": {},
     "output_type": "execute_result"
    }
   ],
   "source": [
    "boolean_matrix.shape"
   ]
  },
  {
   "cell_type": "code",
   "execution_count": 11,
   "metadata": {},
   "outputs": [],
   "source": [
    "# save matrix\n",
    "os.makedirs('../models', exist_ok=True)\n",
    "np.save('../models/doc-term-boolean.npy', boolean_matrix)"
   ]
  },
  {
   "cell_type": "code",
   "execution_count": 12,
   "metadata": {},
   "outputs": [
    {
     "data": {
      "text/plain": [
       "(4322, 43421)"
      ]
     },
     "execution_count": 12,
     "metadata": {},
     "output_type": "execute_result"
    }
   ],
   "source": [
    "# load matrix\n",
    "boolean_matrix = np.load('../models/doc-term-boolean.npy')\n",
    "boolean_matrix.shape"
   ]
  },
  {
   "cell_type": "code",
   "execution_count": 13,
   "metadata": {},
   "outputs": [],
   "source": [
    "# save doc data\n",
    "data = []\n",
    "for i, item in enumerate(normalized_data):\n",
    "    data.append({'title':item['title'], 'link':item['link']})\n",
    "with open(f'../models/doc-term-boolean-data.json', 'w', encoding=\"utf-8\") as f:\n",
    "    json.dump(data, f)"
   ]
  },
  {
   "cell_type": "code",
   "execution_count": 14,
   "metadata": {},
   "outputs": [],
   "source": [
    "# save all tokens\n",
    "all_tokens = list(set(chain.from_iterable(tokens_after_lem)))\n",
    "with open(f'../models/doc-term-boolean-tokens.json', 'w', encoding=\"utf-8\") as f:\n",
    "    json.dump(all_tokens, f)"
   ]
  },
  {
   "cell_type": "code",
   "execution_count": 20,
   "metadata": {},
   "outputs": [],
   "source": [
    "class BooleanModel:\n",
    "    def __init__(self):\n",
    "        self.lemmatizer = Lemmatizer()\n",
    "        self.boolean_matix = np.load('../models/doc-term-boolean.npy')\n",
    "        with open(f'../models/doc-term-boolean-data.json', 'r', encoding=\"utf-8\") as f:\n",
    "            self.data = json.loads(f.read())\n",
    "        with open(f'../models/doc-term-boolean-tokens.json', 'r', encoding=\"utf-8\") as f:\n",
    "            self.all_tokens = json.loads(f.read())\n",
    "\n",
    "    def process_query(self, query):\n",
    "        query_tokens = query.strip().lower().split()\n",
    "        query_tokens = [self.lemmatizer.lemmatize(token) for token in query_tokens]\n",
    "        operands = list()\n",
    "        operators = list()\n",
    "        i = 0\n",
    "        while i < len(query_tokens):\n",
    "            token = query_tokens[i]\n",
    "            if token == 'and' or token == 'or':\n",
    "                operators.append(token)\n",
    "            elif token == 'not':\n",
    "                operands.append(('not', query_tokens[i + 1]))\n",
    "                i += 1\n",
    "            else:\n",
    "                operands.append(('', token))\n",
    "            i += 1\n",
    "        return operands, operators\n",
    "\n",
    "    def get_token_column(self, token):\n",
    "        if token[1] in self.all_tokens:\n",
    "            column = self.boolean_matix[:, self.all_tokens.index(token[1])]\n",
    "            if token[0] == 'not':\n",
    "                column = ~column\n",
    "            return column\n",
    "        else:\n",
    "            return np.zeros(len(self.data), dtype=bool)\n",
    "\n",
    "    def operate(self, operand1, operand2, operator):\n",
    "        if operator == 'and':\n",
    "            return operand1 & operand2\n",
    "        elif operator == 'or':\n",
    "            return operand1 | operand2\n",
    "\n",
    "    def get_nearest_neighbors(self, query, k):\n",
    "        neighbors = list()\n",
    "        operands, operators = self.process_query(query)\n",
    "        n = len(operands)\n",
    "        if n < 2:\n",
    "            result = self.get_token_column(operands[0])\n",
    "        else:\n",
    "            column_operand_1 = self.get_token_column(operands[0])\n",
    "            column_operand_2 = self.get_token_column(operands[1])\n",
    "            result = self.operate(column_operand_1, column_operand_2, operators[0])\n",
    "            for i, operand in enumerate(operands[2:]):\n",
    "                other_operand = self.get_token_column(operand)\n",
    "                result = self.operate(result, other_operand, operators[i + 1])\n",
    "        indices = result.nonzero()[0]\n",
    "        for index in indices:\n",
    "            neighbors.append(self.data[index])\n",
    "        shuffle(neighbors)\n",
    "        return neighbors[:k] if k < len(neighbors) else neighbors\n",
    "\n",
    "    def print_similars(self, query, k=10):\n",
    "        ls = self.get_nearest_neighbors(query, k)\n",
    "        for i, item in enumerate(ls):\n",
    "            print(f\"{i + 1}- title: {item['title']}\")\n",
    "            print(f\"{i + 1}- link: {item['link']}\")\n",
    "            print('-------------------------')"
   ]
  },
  {
   "cell_type": "code",
   "execution_count": 21,
   "metadata": {},
   "outputs": [
    {
     "name": "stdout",
     "output_type": "stream",
     "text": [
      "1- title: بیماری سیاه زخم را باهم مرور میکنیم\n",
      "1- link: https://www.hidoctor.ir/11833_%d8%a8%db%8c%d9%85%d8%a7%d8%b1%db%8c-%d8%b3%db%8c%d8%a7%d9%87-%d8%b2%d8%ae%d9%85-%d8%b1%d8%a7-%d8%a8%d8%a7%d9%87%d9%85-%d9%85%d8%b1%d9%88%d8%b1-%d9%85%db%8c%da%a9%d9%86%db%8c%d9%85.html/\n",
      "-------------------------\n",
      "2- title: اگر عمر طولانی می‌خواهید بخوانید\n",
      "2- link: https://namnak.com/how-to-live-longer.p8598\n",
      "-------------------------\n",
      "3- title: چگونه به شخصی که قصد خودکشی دارد مشاوره دهیم؟\n",
      "3- link: https://www.hidoctor.ir/357610_%da%86%da%af%d9%88%d9%86%d9%87-%d8%a8%d9%87-%d8%b4%d8%ae%d8%b5%db%8c-%da%a9%d9%87-%d9%82%d8%b5%d8%af-%d8%ae%d9%88%d8%af%da%a9%d8%b4%db%8c-%d8%af%d8%a7%d8%b1%d8%af-%d9%85%d8%b4%d8%a7%d9%88%d8%b1%d9%87.html/\n",
      "-------------------------\n",
      "4- title: سیگار کشیدن و اثرات آن بر روی پوست\n",
      "4- link: https://www.hidoctor.ir/353082_%d8%b3%db%8c%da%af%d8%a7%d8%b1-%da%a9%d8%b4%db%8c%d8%af%d9%86-%d9%88-%d8%a7%d8%ab%d8%b1%d8%a7%d8%aa-%d8%a2%d9%86-%d8%a8%d8%b1-%d8%b1%d9%88%db%8c-%d9%be%d9%88%d8%b3%d8%aa.html/\n",
      "-------------------------\n",
      "5- title: انجام آزمایش رضایت بخش واکسن ابولا\n",
      "5- link: https://namnak.com/واکسن-ابولا.p51679\n",
      "-------------------------\n",
      "6- title: نکات بسیار مهم و بهداشتی نگهداری دارو در خانه\n",
      "6- link: https://namnak.com/نگهداری-دارو.p41975\n",
      "-------------------------\n",
      "7- title: بیماری ناشناخته , مشکل عجیب ژنتیکی ۲ برادر هندی\n",
      "7- link: https://namnak.com/بیماری-ناشناخته.p45079\n",
      "-------------------------\n",
      "8- title: فایده‌های بیشمار روغن کرچک\n",
      "8- link: https://www.hidoctor.ir/234119_%d9%81%d8%a7%db%8c%d8%af%d9%87-%d9%87%d8%a7%db%8c-%d8%a8%db%8c%d8%b4%d9%85%d8%a7%d8%b1-%d8%b1%d9%88%d8%ba%d9%86-%da%a9%d8%b1%da%86%da%a9.html/\n",
      "-------------------------\n",
      "9- title: عوارض و اتفاق بدی که برای چپ دست‌ها می‌افته\n",
      "9- link: https://namnak.com/left-handed-dangers.p84847\n",
      "-------------------------\n",
      "10- title: انواع چای و فواید آنها برای سلامتی\n",
      "10- link: https://www.hidoctor.ir/356983_%d8%a7%d9%86%d9%88%d8%a7%d8%b9-%da%86%d8%a7%db%8c-%d9%88-%d9%81%d9%88%d8%a7%db%8c%d8%af-%d8%a2%d9%86%d9%87%d8%a7-%d8%a8%d8%b1%d8%a7%db%8c-%d8%b3%d9%84%d8%a7%d9%85%d8%aa%db%8c.html/\n",
      "-------------------------\n"
     ]
    }
   ],
   "source": [
    "BooleanModel().print_similars('مرگ')"
   ]
  },
  {
   "cell_type": "code",
   "execution_count": 22,
   "metadata": {},
   "outputs": [
    {
     "name": "stdout",
     "output_type": "stream",
     "text": [
      "1- title: آنچه باید درباره عفونت همزمان کرونا و آنفلوانزا بدانید\n",
      "1- link: https://www.hidoctor.ir/357168_%d8%a2%d9%86%da%86%d9%87-%d8%a8%d8%a7%db%8c%d8%af-%d8%af%d8%b1%d8%a8%d8%a7%d8%b1%d9%87-%d8%b9%d9%81%d9%88%d9%86%d8%aa-%d9%87%d9%85%d8%b2%d9%85%d8%a7%d9%86-%da%a9%d8%b1%d9%88%d9%86%d8%a7-%d9%88-%d8%a2.html/\n",
      "-------------------------\n",
      "2- title: در مورد بیماری کرونا ویروس چه می‌دانید؟\n",
      "2- link: https://www.hidoctor.ir/346899_%d8%af%d8%b1-%d9%85%d9%88%d8%b1%d8%af-%d8%a8%db%8c%d9%85%d8%a7%d8%b1%db%8c-%da%a9%d8%b1%d9%88%d9%86%d8%a7-%d9%88%db%8c%d8%b1%d9%88%d8%b3-%da%86%d9%87-%d9%85%db%8c-%d8%af%d8%a7%d9%86%db%8c%d8%af%d8%9f.html/\n",
      "-------------------------\n",
      "3- title: علائم و عوارض بلند مدت کرونا + حقایق ناگفته\n",
      "3- link: https://namnak.com/coronavirus-long-term-effects.p83159\n",
      "-------------------------\n",
      "4- title: علائم نشان دهنده انتشار ویروس کرونا در ریه‌ها\n",
      "4- link: https://www.hidoctor.ir/352292_%d8%b9%d9%84%d8%a7%d8%a6%d9%85-%d9%86%d8%b4%d8%a7%d9%86-%d8%af%d9%87%d9%86%d8%af%d9%87-%d8%a7%d9%86%d8%aa%d8%b4%d8%a7%d8%b1-%d9%88%db%8c%d8%b1%d9%88%d8%b3-%da%a9%d8%b1%d9%88%d9%86%d8%a7-%d8%af%d8%b1.html/\n",
      "-------------------------\n",
      "5- title: علائم بیماری و نگران کننده جسمی در مردان \n",
      "5- link: https://namnak.com/male-health-problems.p81925\n",
      "-------------------------\n",
      "6- title: بیماری پولمونیت چیست؟ / علائم و دلایل بروز آن را بشناسید\n",
      "6- link: https://www.hidoctor.ir/355005_%d8%a8%db%8c%d9%85%d8%a7%d8%b1%db%8c-%d9%be%d9%88%d9%84%d9%85%d9%88%d9%86%db%8c%d8%aa-%da%86%db%8c%d8%b3%d8%aa%d8%9f-%d8%b9%d9%84%d8%a7%d8%a6%d9%85-%d9%88-%d8%af%d9%84%d8%a7%db%8c%d9%84-%d8%a8%d8%b1.html/\n",
      "-------------------------\n",
      "7- title: بیماری سپسیس چیست؟ از علل و علائم تا تشخیص و درمان\n",
      "7- link: https://www.hidoctor.ir/328388_%d8%a8%db%8c%d9%85%d8%a7%d8%b1%db%8c-%d8%b3%d9%be%d8%b3%db%8c%d8%b3.html/\n",
      "-------------------------\n",
      "8- title: علائم خطرناک شدن کرونا در فرد\n",
      "8- link: https://www.hidoctor.ir/354850_%d8%b9%d9%84%d8%a7%d8%a6%d9%85-%d8%ae%d8%b7%d8%b1%d9%86%d8%a7%da%a9-%d8%b4%d8%af%d9%86-%da%a9%d8%b1%d9%88%d9%86%d8%a7-%d8%af%d8%b1-%d9%81%d8%b1%d8%af.html/\n",
      "-------------------------\n",
      "9- title: کرونا با مغز انسان چه می‌کند؟\n",
      "9- link: https://www.hidoctor.ir/351186_%da%a9%d8%b1%d9%88%d9%86%d8%a7-%d8%a8%d8%a7-%d9%85%d8%ba%d8%b2-%d8%a7%d9%86%d8%b3%d8%a7%d9%86-%da%86%d9%87-%d9%85%db%8c-%da%a9%d9%86%d8%af%d8%9f.html/\n",
      "-------------------------\n",
      "10- title: زنگ خطری بزرگ برای سلامت زنان + نشانه‌های جدی\n",
      "10- link: https://namnak.com/women-poor-health-signs.p82187\n",
      "-------------------------\n"
     ]
    }
   ],
   "source": [
    "BooleanModel().print_similars('کرونا and ریه')"
   ]
  },
  {
   "cell_type": "code",
   "execution_count": 23,
   "metadata": {},
   "outputs": [
    {
     "name": "stdout",
     "output_type": "stream",
     "text": [
      "1- title: ردپای کرونا در سردخانه‌های مواد غذایی چین\n",
      "1- link: https://www.hidoctor.ir/350895_%d8%b1%d8%af%d9%be%d8%a7%db%8c-%da%a9%d8%b1%d9%88%d9%86%d8%a7-%d8%af%d8%b1-%d8%b3%d8%b1%d8%af%d8%ae%d8%a7%d9%86%d9%87-%d9%87%d8%a7%db%8c-%d9%85%d9%88%d8%a7%d8%af-%d8%ba%d8%b0%d8%a7%db%8c%db%8c-%da%86.html/\n",
      "-------------------------\n",
      "2- title: علت و روش جلوگیری از سرگیجه بعد از ورزش چیست؟\n",
      "2- link: https://www.hidoctor.ir/354462_%d8%b9%d9%84%d8%aa-%d9%88-%d8%b1%d9%88%d8%b4-%d8%ac%d9%84%d9%88%da%af%db%8c%d8%b1%db%8c-%d8%a7%d8%b2-%d8%b3%d8%b1%da%af%db%8c%d8%ac%d9%87-%d8%a8%d8%b9%d8%af-%d8%a7%d8%b2-%d9%88%d8%b1%d8%b2%d8%b4.html/\n",
      "-------------------------\n",
      "3- title: این علائم کرونا را جدی بگیرید\n",
      "3- link: https://www.hidoctor.ir/354112_%d8%a7%db%8c%d9%86-%d8%b9%d9%84%d8%a7%d8%a6%d9%85-%da%a9%d8%b1%d9%88%d9%86%d8%a7-%d8%b1%d8%a7-%d8%ac%d8%af%db%8c-%d8%a8%da%af%db%8c%d8%b1%db%8c%d8%af.html/\n",
      "-------------------------\n",
      "4- title: شایع‌ترین علائم پس از ابتلا به کرونا / چه زمانی باید درخواست کمک کنیم؟\n",
      "4- link: https://www.hidoctor.ir/354939_%d8%b4%d8%a7%db%8c%d8%b9-%d8%aa%d8%b1%db%8c%d9%86-%d8%b9%d9%84%d8%a7%d8%a6%d9%85-%d9%be%d8%b3-%d8%a7%d8%b2-%d8%a7%d8%a8%d8%aa%d9%84%d8%a7-%d8%a8%d9%87-%da%a9%d8%b1%d9%88%d9%86%d8%a7-%da%86%d9%87.html/\n",
      "-------------------------\n",
      "5- title: آیا کودکان نوپا بدون ماسک ایمن هستند؟\n",
      "5- link: https://www.hidoctor.ir/355202_%d8%a2%db%8c%d8%a7-%da%a9%d9%88%d8%af%da%a9%d8%a7%d9%86-%d9%86%d9%88%d9%be%d8%a7-%d8%a8%d8%af%d9%88%d9%86-%d9%85%d8%a7%d8%b3%da%a9-%d8%a7%db%8c%d9%85%d9%86-%d9%87%d8%b3%d8%aa%d9%86%d8%af%d8%9f.html/\n",
      "-------------------------\n",
      "6- title: عوارض جدی و هولناک کرونا درون مغز\n",
      "6- link: https://namnak.com/coronavirus-affect-brain.p86439\n",
      "-------------------------\n",
      "7- title: ۵ علامت سرفه کردن که نشان می‌دهد کرونا دارید!\n",
      "7- link: https://www.hidoctor.ir/354359_5-%d8%b9%d9%84%d8%a7%d9%85%d8%aa-%d8%b3%d8%b1%d9%81%d9%87-%da%a9%d8%b1%d8%af%d9%86-%da%a9%d9%87-%d9%86%d8%b4%d8%a7%d9%86-%d9%85%db%8c-%d8%af%d9%87%d8%af-%da%a9%d8%b1%d9%88%d9%86%d8%a7-%d8%af%d8%a7.html/\n",
      "-------------------------\n",
      "8- title: توصیه به مبتلایان صرع در زمان کرونا\n",
      "8- link: https://www.hidoctor.ir/350589_%d8%aa%d9%88%d8%b5%db%8c%d9%87-%d8%a8%d9%87-%d9%85%d8%a8%d8%aa%d9%84%d8%a7%db%8c%d8%a7%d9%86-%d8%b5%d8%b1%d8%b9-%d8%af%d8%b1-%d8%b2%d9%85%d8%a7%d9%86-%da%a9%d8%b1%d9%88%d9%86%d8%a7.html/\n",
      "-------------------------\n",
      "9- title: تفاوت امیکرون در واکسن زده‌ها و واکسن نزده‌ها\n",
      "9- link: https://namnak.com/vaccinated-omicron-symptoms.p85817\n",
      "-------------------------\n",
      "10- title: تقویت سیستم ایمنی بدنی در مقابله با کرونا\n",
      "10- link: https://namnak.com/immune-system.p80735\n",
      "-------------------------\n"
     ]
    }
   ],
   "source": [
    "BooleanModel().print_similars('کرونا and not مرگ')"
   ]
  },
  {
   "cell_type": "code",
   "execution_count": 24,
   "metadata": {},
   "outputs": [
    {
     "name": "stdout",
     "output_type": "stream",
     "text": [
      "1- title: علل و عوامل خطر بروز پوکی استخوان\n",
      "1- link: https://www.hidoctor.ir/357093_%d8%b9%d9%84%d9%84-%d9%88-%d8%b9%d9%88%d8%a7%d9%85%d9%84-%d8%ae%d8%b7%d8%b1-%d8%a8%d8%b1%d9%88%d8%b2-%d9%be%d9%88%da%a9%db%8c-%d8%a7%d8%b3%d8%aa%d8%ae%d9%88%d8%a7%d9%86.html/\n",
      "-------------------------\n",
      "2- title: خانم‌ها چه غذاهایی برای پیشگیری از سرطان بخورند\n",
      "2- link: https://www.hidoctor.ir/62421_%d8%ae%d8%a7%d9%86%d9%85-%d9%87%d8%a7-%da%86%d9%87-%d8%ba%d8%b0%d8%a7%d9%87%d8%a7%db%8c%db%8c-%d8%a8%d8%b1%d8%a7%db%8c-%d9%be%db%8c%d8%b4%da%af%db%8c%d8%b1%db%8c-%d8%a7%d8%b2-%d8%b3%d8%b1%d8%b7%d8%a7.html/\n",
      "-------------------------\n",
      "3- title: آجیل در بهبود چه بیماری هایی می‌تواند موثر باشد؟\n",
      "3- link: https://www.hidoctor.ir/355970_%d8%a2%d8%ac%db%8c%d9%84-%d8%af%d8%b1-%d8%a8%d9%87%d8%a8%d9%88%d8%af-%da%86%d9%87-%d8%a8%db%8c%d9%85%d8%a7%d8%b1%db%8c-%d9%87%d8%a7%db%8c%db%8c-%d9%85%db%8c-%d8%aa%d9%88%d8%a7%d9%86%d8%af-%d9%85%d9%88.html/\n",
      "-------------------------\n",
      "4- title: مواد مغذی و مناسب برای رشد مو\n",
      "4- link: https://www.hidoctor.ir/354558_%d9%85%d9%88%d8%a7%d8%af-%d9%85%d8%ba%d8%b0%db%8c-%d9%85%d9%86%d8%a7%d8%b3%d8%a8-%d8%a8%d8%b1%d8%a7%db%8c-%d8%b1%d8%b4%d8%af-%d9%85%d9%88.html/\n",
      "-------------------------\n",
      "5- title: مواد مغذی برای افزایش سلامت چشم\n",
      "5- link: https://namnak.com/سلامت-چشم.p51766\n",
      "-------------------------\n",
      "6- title: کنترل علائم فلج بلز صورت با نسخه‌های گیاهی\n",
      "6- link: https://namnak.com/bell's-palsy-home-remedies.p77390\n",
      "-------------------------\n",
      "7- title: دانسته هایی درباره وارفارین\n",
      "7- link: https://www.hidoctor.ir/10711_%d8%af%d8%a7%d9%86%d8%b3%d8%aa%d9%87-%d9%87%d8%a7%db%8c%db%8c-%d8%af%d8%b1%d8%a8%d8%a7%d8%b1%d9%87-%d9%88%d8%a7%d8%b1%d9%81%d8%a7%d8%b1%db%8c%d9%86.html/\n",
      "-------------------------\n",
      "8- title: تاثیر گروه خونی بر تغذیه کودک\n",
      "8- link: https://www.hidoctor.ir/199587_%d8%aa%d8%a7%d8%ab%db%8c%d8%b1-%da%af%d8%b1%d9%88%d9%87-%d8%ae%d9%88%d9%86%db%8c-%d8%a8%d8%b1-%d8%aa%d8%ba%d8%b0%db%8c%d9%87-%da%a9%d9%88%d8%af%da%a9.html/\n",
      "-------------------------\n",
      "9- title: با این روش سنتی در فصل تابستان سالم و سلامت باشید\n",
      "9- link: https://www.hidoctor.ir/101686_%d8%a8%d8%a7-%d8%a7%db%8c%d9%86-%d8%b1%d9%88%d8%b4-%d8%b3%d9%86%d8%aa%db%8c-%d8%af%d8%b1-%d9%81%d8%b5%d9%84-%d8%aa%d8%a7%d8%a8%d8%b3%d8%aa%d8%a7%d9%86-%d8%b3%d8%a7%d9%84%d9%85-%d9%88-%d8%b3%d9%84.html/\n",
      "-------------------------\n",
      "10- title: قرص ادیوس را چگونه استفاده کنیم؟\n",
      "10- link: https://www.hidoctor.ir/307683_%d9%82%d8%b1%d8%b5-%d8%a7%d8%af%db%8c%d9%88%d8%b3-%d8%b1%d8%a7-%da%86%da%af%d9%88%d9%86%d9%87-%d8%a7%d8%b3%d8%aa%d9%81%d8%a7%d8%af%d9%87-%da%a9%d9%86%db%8c%d9%85%d8%9f.html/\n",
      "-------------------------\n"
     ]
    }
   ],
   "source": [
    "BooleanModel().print_similars('ویتامین or میوه')"
   ]
  }
 ],
 "metadata": {
  "interpreter": {
   "hash": "31f2aee4e71d21fbe5cf8b01ff0e069b9275f58929596ceb00d14d90e3e16cd6"
  },
  "kernelspec": {
   "display_name": "Python 3",
   "language": "python",
   "name": "python3"
  },
  "language_info": {
   "codemirror_mode": {
    "name": "ipython",
    "version": 3
   },
   "file_extension": ".py",
   "mimetype": "text/x-python",
   "name": "python",
   "nbconvert_exporter": "python",
   "pygments_lexer": "ipython3",
   "version": "3.7.3"
  }
 },
 "nbformat": 4,
 "nbformat_minor": 2
}
